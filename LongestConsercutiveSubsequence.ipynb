{
 "cells": [
  {
   "cell_type": "markdown",
   "metadata": {},
   "source": [
    "# Longest Consercutive Subsequence"
   ]
  },
  {
   "cell_type": "markdown",
   "metadata": {},
   "source": [
    "Given an unsorted array of integers, we want to find the length of the longest subsequence such that elements in the subsequence are consecutive integers. The consecutive numbers can be in any order.\n",
    "\n",
    "For example:\n",
    "\n",
    "Input: [1, 9, 3, 10, 4, 20 , 2]\n",
    "Output: 4\n",
    "[1, 3, 4, 2] is the longest subsequence of consecutive elements."
   ]
  },
  {
   "cell_type": "code",
   "execution_count": 4,
   "metadata": {},
   "outputs": [
    {
     "name": "stdout",
     "output_type": "stream",
     "text": [
      "4\n"
     ]
    }
   ],
   "source": [
    "def findLongestConseqSubseq(arr): \n",
    "    \n",
    "    n = len(arr)\n",
    "  \n",
    "    s = set() \n",
    "    ans = 0\n",
    "  \n",
    "    # Hash all the array elements \n",
    "    for ele in arr: \n",
    "        s.add(ele) \n",
    "  \n",
    "    # check each possible sequence from the start \n",
    "    # then update optimal length \n",
    "    for i in range(n): \n",
    "  \n",
    "         # if current element is the starting \n",
    "        # element of a sequence \n",
    "        if (arr[i]-1) not in s: \n",
    "  \n",
    "            # Then check for next elements in the \n",
    "            # sequence \n",
    "            j = arr[i] \n",
    "            while(j in s): \n",
    "                j+= 1\n",
    "  \n",
    "            # update  optimal length if this length \n",
    "            # is more \n",
    "            ans = max(ans, j-arr[i]) \n",
    "    return ans \n",
    "\n",
    "\n",
    "print(findLongestConseqSubseq([1, 9, 3, 10, 4, 20 , 2]))"
   ]
  },
  {
   "cell_type": "markdown",
   "metadata": {},
   "source": [
    "## To be updated in the future with a union-find solution"
   ]
  },
  {
   "cell_type": "code",
   "execution_count": null,
   "metadata": {},
   "outputs": [],
   "source": []
  }
 ],
 "metadata": {
  "kernelspec": {
   "display_name": "Python 3",
   "language": "python",
   "name": "python3"
  },
  "language_info": {
   "codemirror_mode": {
    "name": "ipython",
    "version": 3
   },
   "file_extension": ".py",
   "mimetype": "text/x-python",
   "name": "python",
   "nbconvert_exporter": "python",
   "pygments_lexer": "ipython3",
   "version": "3.7.4"
  }
 },
 "nbformat": 4,
 "nbformat_minor": 2
}
