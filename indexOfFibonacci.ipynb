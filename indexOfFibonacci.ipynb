{
 "cells": [
  {
   "cell_type": "markdown",
   "metadata": {},
   "source": [
    "**indexOfFibonacci**"
   ]
  },
  {
   "cell_type": "markdown",
   "metadata": {},
   "source": [
    "computes the index of the fibonacci number with the input number of digits"
   ]
  },
  {
   "cell_type": "markdown",
   "metadata": {},
   "source": [
    "**Input** = 2\n"
   ]
  },
  {
   "cell_type": "markdown",
   "metadata": {},
   "source": [
    "**Output** = 6 ; which is the index of 13, the first 2 digit number in the 1,1,2 fibonacci series."
   ]
  },
  {
   "cell_type": "markdown",
   "metadata": {},
   "source": [
    "**Solution 1**"
   ]
  },
  {
   "cell_type": "markdown",
   "metadata": {},
   "source": [
    "Edit f1 and f2 in function body to 0 and 1 for the 0,1,1,2 Fibonacci series."
   ]
  },
  {
   "cell_type": "code",
   "execution_count": null,
   "metadata": {},
   "outputs": [],
   "source": [
    "The runtime is _ and the space complexity is _."
   ]
  },
  {
   "cell_type": "code",
   "execution_count": 5,
   "metadata": {},
   "outputs": [
    {
     "name": "stdout",
     "output_type": "stream",
     "text": [
      "16\n",
      "6\n"
     ]
    }
   ],
   "source": [
    "def indexOfFibonacci(n):\n",
    "    f1= 1\n",
    "    f2 = 1\n",
    "    index = 2\n",
    "    f3 = f1 + f2\n",
    "    \n",
    "    while(len(str(f3)) != n): \n",
    "        f1 = f2\n",
    "        f2 = f3 \n",
    "        f3 = f1 + f2 \n",
    "        index += 1\n",
    "    return index\n",
    "\n",
    "print(indexOfFibonacci(4))\n",
    "print(indexOfFibonacci(2))\n",
    "print(indexOfFibonacci(1))"
   ]
  },
  {
   "cell_type": "code",
   "execution_count": null,
   "metadata": {},
   "outputs": [],
   "source": []
  }
 ],
 "metadata": {
  "kernelspec": {
   "display_name": "Python 3",
   "language": "python",
   "name": "python3"
  },
  "language_info": {
   "codemirror_mode": {
    "name": "ipython",
    "version": 3
   },
   "file_extension": ".py",
   "mimetype": "text/x-python",
   "name": "python",
   "nbconvert_exporter": "python",
   "pygments_lexer": "ipython3",
   "version": "3.7.4"
  }
 },
 "nbformat": 4,
 "nbformat_minor": 2
}
