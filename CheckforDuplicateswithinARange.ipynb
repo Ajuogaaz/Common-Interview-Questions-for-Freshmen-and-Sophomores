{
 "cells": [
  {
   "cell_type": "markdown",
   "metadata": {},
   "source": [
    "# Check for any duplicates within a specified range"
   ]
  },
  {
   "cell_type": "markdown",
   "metadata": {},
   "source": [
    "The run time is linear and space complexity is also linear. You have to find duplicates of numbers then given a constant k, the duplicate index in the list should be less than the given number."
   ]
  },
  {
   "cell_type": "code",
   "execution_count": 1,
   "metadata": {},
   "outputs": [
    {
     "data": {
      "text/plain": [
       "True"
      ]
     },
     "execution_count": 1,
     "metadata": {},
     "output_type": "execute_result"
    }
   ],
   "source": [
    "def checkDuplicatesWithinK(nums, k):\n",
    "    h = set()\n",
    "    for i in range(len(nums)):\n",
    "        if nums[i] in h:\n",
    "            return True\n",
    "        h.add(nums[i])\n",
    "        \n",
    "        if i >= k:\n",
    "            h.remove(nums[i-k])\n",
    "            \n",
    "    return False \n",
    "\n",
    "\n",
    "checkDuplicatesWithinK([5, 3, 2, 7, 5, 3, 2, 4, 3, 5],3)"
   ]
  },
  {
   "cell_type": "code",
   "execution_count": null,
   "metadata": {},
   "outputs": [],
   "source": []
  }
 ],
 "metadata": {
  "kernelspec": {
   "display_name": "Python 3",
   "language": "python",
   "name": "python3"
  },
  "language_info": {
   "codemirror_mode": {
    "name": "ipython",
    "version": 3
   },
   "file_extension": ".py",
   "mimetype": "text/x-python",
   "name": "python",
   "nbconvert_exporter": "python",
   "pygments_lexer": "ipython3",
   "version": "3.7.4"
  }
 },
 "nbformat": 4,
 "nbformat_minor": 2
}
