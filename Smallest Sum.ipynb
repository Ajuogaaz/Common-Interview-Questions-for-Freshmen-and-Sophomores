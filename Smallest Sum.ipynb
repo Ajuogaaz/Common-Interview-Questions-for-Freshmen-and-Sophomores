{
 "cells": [
  {
   "cell_type": "markdown",
   "metadata": {},
   "source": [
    "**Smallest Sum**"
   ]
  },
  {
   "cell_type": "markdown",
   "metadata": {},
   "source": [
    "Finds the smallest number after a given integer whose digits has the same sum as the given number. "
   ]
  },
  {
   "cell_type": "markdown",
   "metadata": {},
   "source": [
    "**Input** = (45)"
   ]
  },
  {
   "cell_type": "markdown",
   "metadata": {},
   "source": [
    "**Output** = 54"
   ]
  },
  {
   "cell_type": "markdown",
   "metadata": {},
   "source": [
    "**Solution 1**"
   ]
  },
  {
   "cell_type": "markdown",
   "metadata": {},
   "source": [
    "The runtime is O(logN) and the space complexity is O(N)."
   ]
  },
  {
   "cell_type": "code",
   "execution_count": 4,
   "metadata": {},
   "outputs": [
    {
     "name": "stdout",
     "output_type": "stream",
     "text": [
      "37\n",
      "743\n",
      "2089\n",
      "10000\n",
      "100004\n",
      "2\n"
     ]
    }
   ],
   "source": [
    "def findSmallestSum(N):\n",
    "    if (len(str(N))) == 1:\n",
    "        return N\n",
    "    str_cpy = str(N)\n",
    "    lst_cpy = list(str_cpy)\n",
    "    lst_cpy = list(map(int, lst_cpy))\n",
    "    sum_n = sum(lst_cpy)\n",
    "    while True:\n",
    "        next_num = N + 1\n",
    "        s_next_num = str(next_num)\n",
    "        l_next_num = list(s_next_num)\n",
    "        l_next_num = list(map(int, l_next_num))\n",
    "        sum_next_num = sum(l_next_num)\n",
    "        if sum_n == sum_next_num:\n",
    "            return next_num\n",
    "        N += 1\n",
    "        \n",
    "print(findSmallestSum(28))\n",
    "print(findSmallestSum(734))\n",
    "print(findSmallestSum(1990))\n",
    "print(findSmallestSum(1000))\n",
    "print(findSmallestSum(50000))\n",
    "print(findSmallestSum(2))"
   ]
  },
  {
   "cell_type": "code",
   "execution_count": null,
   "metadata": {},
   "outputs": [],
   "source": []
  }
 ],
 "metadata": {
  "kernelspec": {
   "display_name": "Python 3",
   "language": "python",
   "name": "python3"
  },
  "language_info": {
   "codemirror_mode": {
    "name": "ipython",
    "version": 3
   },
   "file_extension": ".py",
   "mimetype": "text/x-python",
   "name": "python",
   "nbconvert_exporter": "python",
   "pygments_lexer": "ipython3",
   "version": "3.7.4"
  }
 },
 "nbformat": 4,
 "nbformat_minor": 2
}
