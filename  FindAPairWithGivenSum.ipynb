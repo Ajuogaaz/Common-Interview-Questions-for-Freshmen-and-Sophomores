{
 "cells": [
  {
   "cell_type": "markdown",
   "metadata": {},
   "source": [
    " # Find a pair with given sum"
   ]
  },
  {
   "cell_type": "markdown",
   "metadata": {},
   "source": [
    "Given an array of size n and a number x, determine the first two elements in the array, if any, whose sum is exactly x. <br/>\n",
    "\n",
    "[3, 2, 6, 9, 5], x = 9 : Returns (3, 6) <br/>\n",
    "\n",
    "[10, 1, 5], x = 7 : Returns null <br/>\n",
    "\n",
    "[], x = 2 : Returns null <br/>\n",
    "\n",
    "[1, 5, 2, 4], x = 6 : Returns (1, 5) <br/>"
   ]
  },
  {
   "cell_type": "markdown",
   "metadata": {},
   "source": [
    "The runtime complexity of this algorithm is O(N) and the space complexity is O(N). We dont use any additional space."
   ]
  },
  {
   "cell_type": "code",
   "execution_count": 18,
   "metadata": {},
   "outputs": [
    {
     "name": "stdout",
     "output_type": "stream",
     "text": [
      "[4, 6]\n",
      "[3, 6]\n",
      "None\n",
      "[1, 5]\n",
      "None\n"
     ]
    }
   ],
   "source": [
    "def pairSum(lst,sum):\n",
    "\n",
    "  if len(lst) == 0:\n",
    "    return None\n",
    "    \n",
    "  container = set()\n",
    "\n",
    "  for num in range(len(lst)):\n",
    "    currentSum = sum - lst[num]\n",
    "    if currentSum not in container:\n",
    "      container.add(lst[num])\n",
    "    else:\n",
    "        return [currentSum, lst[num]]\n",
    "  return None\n",
    "\n",
    "print(pairSum([1,4,3, 10, 5,6],10))\n",
    "print(pairSum([3, 2, 6, 9, 5], 9))\n",
    "print(pairSum([10, 1, 5], 7))\n",
    "print(pairSum([1, 5, 2, 4], 6))\n",
    "print(pairSum([], 2))\n",
    "    \n",
    "    "
   ]
  },
  {
   "cell_type": "markdown",
   "metadata": {},
   "source": [
    "The runtime complexity of this algorithm is O(N^2) and the space complexity is O(C). We dont use any additional space."
   ]
  },
  {
   "cell_type": "code",
   "execution_count": 19,
   "metadata": {},
   "outputs": [
    {
     "name": "stdout",
     "output_type": "stream",
     "text": [
      "(3, 6)\n",
      "null\n",
      "(1, 5)\n",
      "null\n"
     ]
    }
   ],
   "source": [
    "def pairSum2(lst, n):  # ---> BruteForce Not Good\n",
    "    \n",
    "    if len(lst) == 0:\n",
    "        return \"null\"\n",
    "    i = 0\n",
    " \n",
    "    \n",
    "    while i < len(lst):\n",
    "        j = 0\n",
    "        while j < i:\n",
    "            \n",
    "            if(lst[i] + lst[j]) == n:\n",
    "                return (lst[j], lst[i])\n",
    "            j += 1\n",
    "        i += 1\n",
    "    return \"null\"\n",
    "    \n",
    "print(pairSum2([3, 2, 6, 9, 5], 9))\n",
    "print(pairSum2([10, 1, 5], 7))\n",
    "print(pairSum2([1, 5, 2, 4], 6))\n",
    "print(pairSum2([], 2))"
   ]
  },
  {
   "cell_type": "code",
   "execution_count": null,
   "metadata": {},
   "outputs": [],
   "source": []
  }
 ],
 "metadata": {
  "kernelspec": {
   "display_name": "Python 3",
   "language": "python",
   "name": "python3"
  },
  "language_info": {
   "codemirror_mode": {
    "name": "ipython",
    "version": 3
   },
   "file_extension": ".py",
   "mimetype": "text/x-python",
   "name": "python",
   "nbconvert_exporter": "python",
   "pygments_lexer": "ipython3",
   "version": "3.7.4"
  }
 },
 "nbformat": 4,
 "nbformat_minor": 2
}
