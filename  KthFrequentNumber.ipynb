{
 "cells": [
  {
   "cell_type": "markdown",
   "metadata": {},
   "source": [
    " # Kth Frequent Number"
   ]
  },
  {
   "cell_type": "markdown",
   "metadata": {},
   "source": [
    "Find the element that appears k number of times in an array."
   ]
  },
  {
   "cell_type": "markdown",
   "metadata": {},
   "source": [
    "Input: [8, 7, 9, 6, 7, 5, 1], k = 2 <br/>\n",
    "Output: 7"
   ]
  },
  {
   "cell_type": "markdown",
   "metadata": {},
   "source": [
    "The runTime of this algorithm is O(n) and the space complexity is O(n)"
   ]
  },
  {
   "cell_type": "code",
   "execution_count": 6,
   "metadata": {},
   "outputs": [
    {
     "name": "stdout",
     "output_type": "stream",
     "text": [
      "7\n"
     ]
    }
   ],
   "source": [
    "def frequentNumber(lst, k):\n",
    "    myDict = {}\n",
    "    \n",
    "    if k == 1:\n",
    "        return lst[0]\n",
    "    \n",
    "    for j in lst:\n",
    "        if j in myDict:\n",
    "            myDict[j] += 1\n",
    "            \n",
    "            if myDict[j] == k:\n",
    "                return j\n",
    "            \n",
    "        else:\n",
    "            myDict[j]= 1\n",
    "    return None\n",
    "\n",
    "\n",
    "print(frequentNumber([8,7,9,6,7,5,1, 8], 2))"
   ]
  },
  {
   "cell_type": "code",
   "execution_count": null,
   "metadata": {},
   "outputs": [],
   "source": []
  }
 ],
 "metadata": {
  "kernelspec": {
   "display_name": "Python 3",
   "language": "python",
   "name": "python3"
  },
  "language_info": {
   "codemirror_mode": {
    "name": "ipython",
    "version": 3
   },
   "file_extension": ".py",
   "mimetype": "text/x-python",
   "name": "python",
   "nbconvert_exporter": "python",
   "pygments_lexer": "ipython3",
   "version": "3.7.4"
  }
 },
 "nbformat": 4,
 "nbformat_minor": 2
}
