{
 "cells": [
  {
   "cell_type": "markdown",
   "metadata": {},
   "source": [
    "**firstUniqueCharacter**"
   ]
  },
  {
   "cell_type": "markdown",
   "metadata": {},
   "source": [
    "Finds the index of the first unique character in a string. Returns -1 if none exists"
   ]
  },
  {
   "cell_type": "markdown",
   "metadata": {},
   "source": [
    "**Input** = 'llyma'"
   ]
  },
  {
   "cell_type": "markdown",
   "metadata": {},
   "source": [
    "**Output** = 2"
   ]
  },
  {
   "cell_type": "markdown",
   "metadata": {},
   "source": [
    "**Solution 1**"
   ]
  },
  {
   "cell_type": "markdown",
   "metadata": {},
   "source": [
    "The runtime is O(logN) and the space complexity is O(N)"
   ]
  },
  {
   "cell_type": "code",
   "execution_count": 1,
   "metadata": {},
   "outputs": [
    {
     "name": "stdout",
     "output_type": "stream",
     "text": [
      "2\n",
      "0\n",
      "4\n",
      "-1\n"
     ]
    }
   ],
   "source": [
    "from collections import deque\n",
    "\n",
    "\n",
    "def firstUnique(n):\n",
    "    n = deque(n)\n",
    "    index = 0\n",
    "    while index < len(n):\n",
    "        char = n.popleft()\n",
    "        if char in n:\n",
    "            index += 1\n",
    "            n.append(char)\n",
    "        else:\n",
    "            return index\n",
    "    return -1\n",
    "\n",
    "print(firstUnique('loveleetcode'))\n",
    "print(firstUnique('o'))\n",
    "print(firstUnique('lleem'))\n",
    "print(firstUnique(''))"
   ]
  }
 ],
 "metadata": {
  "kernelspec": {
   "display_name": "Python 3",
   "language": "python",
   "name": "python3"
  },
  "language_info": {
   "codemirror_mode": {
    "name": "ipython",
    "version": 3
   },
   "file_extension": ".py",
   "mimetype": "text/x-python",
   "name": "python",
   "nbconvert_exporter": "python",
   "pygments_lexer": "ipython3",
   "version": "3.7.4"
  }
 },
 "nbformat": 4,
 "nbformat_minor": 2
}
