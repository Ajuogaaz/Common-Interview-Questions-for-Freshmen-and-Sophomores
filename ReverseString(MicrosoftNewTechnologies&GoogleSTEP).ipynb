{
 "cells": [
  {
   "cell_type": "markdown",
   "metadata": {},
   "source": [
    "# Reverse String"
   ]
  },
  {
   "cell_type": "markdown",
   "metadata": {},
   "source": [
    "There are many different variations to this questions. However we will take the simple approach of having a string input and returning a reversed string. \n",
    "\n",
    "**input** = _\"hello\"_ \n",
    "**output** = _\"olleh\"_"
   ]
  },
  {
   "cell_type": "markdown",
   "metadata": {},
   "source": [
    "#### Solution1"
   ]
  },
  {
   "cell_type": "code",
   "execution_count": 25,
   "metadata": {},
   "outputs": [
    {
     "name": "stdout",
     "output_type": "stream",
     "text": [
      "desrever ma I\n"
     ]
    }
   ],
   "source": [
    "def customreverse1(input):\n",
    "    return (input[::-1])\n",
    "\n",
    "print(customreverse1(\"I am reversed\"))"
   ]
  },
  {
   "cell_type": "markdown",
   "metadata": {},
   "source": [
    "#### Solution2"
   ]
  },
  {
   "cell_type": "code",
   "execution_count": 22,
   "metadata": {},
   "outputs": [
    {
     "name": "stdout",
     "output_type": "stream",
     "text": [
      "desrever ma I\n"
     ]
    }
   ],
   "source": [
    "from collections import deque\n",
    "def customreverse2(input):\n",
    "     d = deque(input)\n",
    "     d.reverse()\n",
    "    \n",
    "     return ''.join(d)    \n",
    "\n",
    "print(customreverse2(\"I am reversed\"))"
   ]
  },
  {
   "cell_type": "markdown",
   "metadata": {},
   "source": [
    "**solution3**"
   ]
  },
  {
   "cell_type": "markdown",
   "metadata": {},
   "source": [
    "This solution has a run time of O(logn) and a space complexity of O(n)"
   ]
  },
  {
   "cell_type": "code",
   "execution_count": 29,
   "metadata": {},
   "outputs": [
    {
     "name": "stdout",
     "output_type": "stream",
     "text": [
      "desrever ma I\n"
     ]
    }
   ],
   "source": [
    "def customreverse3(input):\n",
    "    output = list(input)     \n",
    "    inn = 0\n",
    "    final = len(output)-1\n",
    "    \n",
    "    while inn < final:        \n",
    "        output[inn], output[final] = output[final], output[inn]\n",
    "        \n",
    "        inn += 1\n",
    "        final -= 1\n",
    "        \n",
    "    return ''.join(output)\n",
    "print(customreverse3(\"I am reversed\"))"
   ]
  },
  {
   "cell_type": "markdown",
   "metadata": {},
   "source": [
    "Contact us in case you have a better solution or find any mistakes in the analysis"
   ]
  }
 ],
 "metadata": {
  "kernelspec": {
   "display_name": "Python 3",
   "language": "python",
   "name": "python3"
  },
  "language_info": {
   "codemirror_mode": {
    "name": "ipython",
    "version": 3
   },
   "file_extension": ".py",
   "mimetype": "text/x-python",
   "name": "python",
   "nbconvert_exporter": "python",
   "pygments_lexer": "ipython3",
   "version": "3.7.4"
  }
 },
 "nbformat": 4,
 "nbformat_minor": 2
}
