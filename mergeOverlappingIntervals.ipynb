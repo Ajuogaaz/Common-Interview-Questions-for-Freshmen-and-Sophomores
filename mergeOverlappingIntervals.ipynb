{
 "cells": [
  {
   "cell_type": "markdown",
   "metadata": {},
   "source": [
    "**mergeOverlappingArrays**"
   ]
  },
  {
   "cell_type": "markdown",
   "metadata": {},
   "source": [
    "**Input** = [[1,3], [2,6]]"
   ]
  },
  {
   "cell_type": "markdown",
   "metadata": {},
   "source": [
    "**Output** = [1,6]"
   ]
  },
  {
   "cell_type": "markdown",
   "metadata": {},
   "source": [
    "**Solution 1**"
   ]
  },
  {
   "cell_type": "markdown",
   "metadata": {},
   "source": [
    "The runtime is O(n) and the space complexity is O(n)."
   ]
  },
  {
   "cell_type": "code",
   "execution_count": 4,
   "metadata": {},
   "outputs": [
    {
     "name": "stdout",
     "output_type": "stream",
     "text": [
      "[[1, 6], [8, 10], [15, 18]]\n",
      "[[1, 3]]\n",
      "[[1, 4]]\n"
     ]
    }
   ],
   "source": [
    "def merge_overlapping_intervals(intervals):\n",
    "    i = 0\n",
    "    temp_lst = []\n",
    "    while i < len(intervals):\n",
    "        if i+1 == len(intervals):\n",
    "            return temp_lst\n",
    "        if intervals[i][1] >= intervals[i+1][0]:\n",
    "            temp_lst.append([intervals[i][0], intervals[i+1][1]])\n",
    "        else:\n",
    "            temp_lst.append(intervals[i + 1])\n",
    "        i += 1\n",
    "    return temp_lst\n",
    "\n",
    "print(merge_overlapping_intervals([[1,3],[2,6],[8,10],[15,18]]))\n",
    "print(merge_overlapping_intervals([[1,3],[3,3]]))\n",
    "print(merge_overlapping_intervals([[1,3],[3,4]]))"
   ]
  },
  {
   "cell_type": "code",
   "execution_count": null,
   "metadata": {},
   "outputs": [],
   "source": []
  }
 ],
 "metadata": {
  "kernelspec": {
   "display_name": "Python 3",
   "language": "python",
   "name": "python3"
  },
  "language_info": {
   "codemirror_mode": {
    "name": "ipython",
    "version": 3
   },
   "file_extension": ".py",
   "mimetype": "text/x-python",
   "name": "python",
   "nbconvert_exporter": "python",
   "pygments_lexer": "ipython3",
   "version": "3.7.4"
  }
 },
 "nbformat": 4,
 "nbformat_minor": 2
}
