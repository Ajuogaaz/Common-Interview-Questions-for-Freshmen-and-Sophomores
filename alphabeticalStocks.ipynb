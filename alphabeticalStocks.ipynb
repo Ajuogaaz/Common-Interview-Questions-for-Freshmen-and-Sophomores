{
 "cells": [
  {
   "cell_type": "markdown",
   "metadata": {},
   "source": [
    "**alphabeticalStocks**"
   ]
  },
  {
   "cell_type": "markdown",
   "metadata": {},
   "source": [
    "Arranges a string representing a typical stock and price in alphabetical order along with each price."
   ]
  },
  {
   "cell_type": "markdown",
   "metadata": {},
   "source": [
    "**Input** = [\"SACHS 100 AT&T 10 BCG 69\"]"
   ]
  },
  {
   "cell_type": "markdown",
   "metadata": {},
   "source": [
    "**Output** = \"AT&T 10 BCG 69 SACHS 100\""
   ]
  },
  {
   "cell_type": "markdown",
   "metadata": {},
   "source": [
    "**Solution 1**"
   ]
  },
  {
   "cell_type": "code",
   "execution_count": null,
   "metadata": {},
   "outputs": [],
   "source": [
    "The runtime is O(nlogn) and the space complexity is "
   ]
  },
  {
   "cell_type": "code",
   "execution_count": 2,
   "metadata": {},
   "outputs": [
    {
     "name": "stdout",
     "output_type": "stream",
     "text": [
      " AAPL 313 BBY 22 GOOG 513 TSLA 58\n",
      " AAPL 313 BBY 222 GOOG 513 NBA 12 TSLA 58\n",
      " AAPL 55 BBY 22 GOOG 22 NBA 11 TSLA 44\n"
     ]
    }
   ],
   "source": [
    "def alphabetical_stocks(n):\n",
    "    n = n.split(' ')\n",
    "    new_string = \"\"\n",
    "    for i in range(0, len(n), 2):\n",
    "        new_string += n[i] + ',' + n[i + 1] + \" \"\n",
    "    new_string = new_string.split(' ')\n",
    "    new_string = sorted(new_string)\n",
    "    new_string = ' '.join(new_string)\n",
    "    new_string = new_string.replace(',', ' ')\n",
    "    new_string.strip()\n",
    "    return new_string\n",
    "\n",
    "test_1 = \"AAPL 313 GOOG 513 TSLA 58 BBY 22\" # BBY\n",
    "test_2 = \"NBA 12 AAPL 313 GOOG 513 TSLA 58 BBY 222\" #NBA\n",
    "test_3 = \"NBA 11 AAPL 55 GOOG 22 TSLA 44 BBY 22\" # NBA\n",
    "\n",
    "print(alphabetical_stocks(test_1))\n",
    "print(alphabetical_stocks(test_2))\n",
    "print(alphabetical_stocks(test_3))"
   ]
  }
 ],
 "metadata": {
  "kernelspec": {
   "display_name": "Python 3",
   "language": "python",
   "name": "python3"
  },
  "language_info": {
   "codemirror_mode": {
    "name": "ipython",
    "version": 3
   },
   "file_extension": ".py",
   "mimetype": "text/x-python",
   "name": "python",
   "nbconvert_exporter": "python",
   "pygments_lexer": "ipython3",
   "version": "3.7.4"
  }
 },
 "nbformat": 4,
 "nbformat_minor": 2
}
