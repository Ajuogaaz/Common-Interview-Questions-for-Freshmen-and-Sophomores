{
 "cells": [
  {
   "cell_type": "markdown",
   "metadata": {},
   "source": [
    "# Happy Number"
   ]
  },
  {
   "cell_type": "markdown",
   "metadata": {},
   "source": [
    "Write an algorithm to determine if a number n is \"happy\".\n",
    "\n",
    "A happy number is a number defined by the following process: Starting with any positive integer, replace the number by the sum of the squares of its digits, and repeat the process until the number equals 1 (where it will stay), or it loops endlessly in a cycle which does not include 1. Those numbers for which this process ends in 1 are happy numbers.\n",
    "\n",
    "Return True if n is a happy number, and False if not."
   ]
  },
  {
   "cell_type": "markdown",
   "metadata": {},
   "source": [
    "Example: <br /> <br />\n",
    "\n",
    "Input: 19  <br />\n",
    "Output: true <br />\n",
    "Explanation:  <br />\n",
    "1^2 + 9^2 = 82 <br />\n",
    "8^2 + 2^2 = 68<br />\n",
    "6^2 + 8^2 = 100 <br />\n",
    "1^2 + 0^2 + 0^2 = 1"
   ]
  },
  {
   "cell_type": "code",
   "execution_count": 13,
   "metadata": {},
   "outputs": [
    {
     "data": {
      "text/plain": [
       "True"
      ]
     },
     "execution_count": 13,
     "metadata": {},
     "output_type": "execute_result"
    }
   ],
   "source": [
    " def isHappy(n: int) -> bool:\n",
    "        \n",
    "        curr = n\n",
    "        count = 0 \n",
    "        \n",
    "        while(count < 50): \n",
    "            \n",
    "            input = list(str(curr))\n",
    "            \n",
    "            curr = 0\n",
    "            for i in range(len(input)):\n",
    "                curr += (int(input[i])) * (int(input[i])) \n",
    "                \n",
    "               \n",
    "            if curr == 1:\n",
    "                return True\n",
    "            \n",
    "            count += 1\n",
    "        return False\n",
    "isHappy(19)"
   ]
  },
  {
   "cell_type": "code",
   "execution_count": null,
   "metadata": {},
   "outputs": [],
   "source": []
  },
  {
   "cell_type": "code",
   "execution_count": null,
   "metadata": {},
   "outputs": [],
   "source": []
  }
 ],
 "metadata": {
  "kernelspec": {
   "display_name": "Python 3",
   "language": "python",
   "name": "python3"
  },
  "language_info": {
   "codemirror_mode": {
    "name": "ipython",
    "version": 3
   },
   "file_extension": ".py",
   "mimetype": "text/x-python",
   "name": "python",
   "nbconvert_exporter": "python",
   "pygments_lexer": "ipython3",
   "version": "3.7.4"
  }
 },
 "nbformat": 4,
 "nbformat_minor": 2
}
