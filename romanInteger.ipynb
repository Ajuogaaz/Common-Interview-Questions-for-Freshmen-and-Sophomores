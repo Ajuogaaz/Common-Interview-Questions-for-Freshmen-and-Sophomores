{
 "cells": [
  {
   "cell_type": "markdown",
   "metadata": {},
   "source": [
    "**romanInteger**"
   ]
  },
  {
   "cell_type": "markdown",
   "metadata": {},
   "source": [
    "converts a roman numeral to its equivalent integer value"
   ]
  },
  {
   "cell_type": "markdown",
   "metadata": {},
   "source": [
    "**Input** = 'IV'"
   ]
  },
  {
   "cell_type": "markdown",
   "metadata": {},
   "source": [
    "**Output** = 4"
   ]
  },
  {
   "cell_type": "markdown",
   "metadata": {},
   "source": [
    "**Solution 1**"
   ]
  },
  {
   "cell_type": "markdown",
   "metadata": {},
   "source": [
    "The runtime is - and the space time complexity is -."
   ]
  },
  {
   "cell_type": "code",
   "execution_count": 2,
   "metadata": {},
   "outputs": [
    {
     "name": "stdout",
     "output_type": "stream",
     "text": [
      "58\n",
      "1994\n"
     ]
    }
   ],
   "source": [
    "def romanInteger(n:str)-> int:\n",
    "    values = {\"I\":1,\"V\":5,\"X\":10,\"L\":50,\"C\":100,\"D\":500,\"M\":1000,\"IV\":4,\"IX\":9,\"XL\":40,\"XC\":90,\"CD\":400,\"CM\":900}\n",
    "    resultInteger = 0\n",
    "\n",
    "    index = 0\n",
    "\n",
    "    nLength = len(n)\n",
    "\n",
    "    while index < nLength:\n",
    "        if index + 1 != nLength:\n",
    "            x = n[index] + n[index + 1]\n",
    "        else:\n",
    "            x = n[index]\n",
    "        if x in values.keys():\n",
    "            resultInteger += values[x]\n",
    "            index += 2\n",
    "        elif x[0] in values.keys():\n",
    "            resultInteger += values[x[0]]\n",
    "            index += 1\n",
    "    return resultInteger\n",
    "\n",
    "print(romanInteger('LVIII'))\n",
    "print(romanInteger('MCMXCIV'))\n"
   ]
  },
  {
   "cell_type": "code",
   "execution_count": null,
   "metadata": {},
   "outputs": [],
   "source": []
  }
 ],
 "metadata": {
  "kernelspec": {
   "display_name": "Python 3",
   "language": "python",
   "name": "python3"
  },
  "language_info": {
   "codemirror_mode": {
    "name": "ipython",
    "version": 3
   },
   "file_extension": ".py",
   "mimetype": "text/x-python",
   "name": "python",
   "nbconvert_exporter": "python",
   "pygments_lexer": "ipython3",
   "version": "3.7.4"
  }
 },
 "nbformat": 4,
 "nbformat_minor": 2
}
