{
 "cells": [
  {
   "cell_type": "markdown",
   "metadata": {},
   "source": [
    "**recursivePalindrome**"
   ]
  },
  {
   "cell_type": "markdown",
   "metadata": {},
   "source": [
    "uses recursion to check if a given string is a palindrome. ie. when reversed reads the same as the original. Ignore, casing, punctuation."
   ]
  },
  {
   "cell_type": "markdown",
   "metadata": {},
   "source": [
    "**Input** = (\"mom\")"
   ]
  },
  {
   "cell_type": "markdown",
   "metadata": {},
   "source": [
    "**Output** = True"
   ]
  },
  {
   "cell_type": "markdown",
   "metadata": {},
   "source": [
    "The runtime is O(n) since the recursion is done with respect to the size of the input and the space complexity is O(n) since the fucntion is hold onto the stack n times."
   ]
  },
  {
   "cell_type": "code",
   "execution_count": 2,
   "metadata": {},
   "outputs": [
    {
     "name": "stdout",
     "output_type": "stream",
     "text": [
      "True\n",
      "False\n",
      "True\n"
     ]
    }
   ],
   "source": [
    "def recursivePalindrome(s):\n",
    "    if len(s) <= 1:\n",
    "        return True\n",
    "    if s[0] == s[-1]:\n",
    "        s = s[1:-1]\n",
    "    else:\n",
    "        return False\n",
    "    return recursivePalindrome(s)\n",
    "\n",
    "\n",
    "print(recursivePalindrome(\"malayalam\"))\n",
    "print(recursivePalindrome(\"box\"))\n",
    "print(recursivePalindrome('dad'))"
   ]
  }
 ],
 "metadata": {
  "kernelspec": {
   "display_name": "Python 3",
   "language": "python",
   "name": "python3"
  },
  "language_info": {
   "codemirror_mode": {
    "name": "ipython",
    "version": 3
   },
   "file_extension": ".py",
   "mimetype": "text/x-python",
   "name": "python",
   "nbconvert_exporter": "python",
   "pygments_lexer": "ipython3",
   "version": "3.7.4"
  }
 },
 "nbformat": 4,
 "nbformat_minor": 2
}
