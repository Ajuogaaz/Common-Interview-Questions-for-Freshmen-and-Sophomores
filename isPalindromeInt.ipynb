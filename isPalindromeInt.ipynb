{
 "cells": [
  {
   "cell_type": "markdown",
   "metadata": {},
   "source": [
    "### Palindrome Number\n",
    "Determine whether an integer is a palindrome. An integer is a palindrome when it reads the same backward as forward\n",
    "\n",
    "#### Example 1:\n",
    "**Input**: 121 \n",
    "**Output**: true\n",
    "\n",
    "#### Example 2:\n",
    "**Input**: -121 \n",
    "**Output**: false Explanation: The reverse integer of this is 121- which is different from -121\n",
    "\n",
    "#### Solution\n",
    "This solution is accomplished in O(lgn) time complexity and O(1) space"
   ]
  },
  {
   "cell_type": "code",
   "execution_count": 1,
   "metadata": {},
   "outputs": [
    {
     "name": "stdout",
     "output_type": "stream",
     "text": [
      "True\n",
      "False\n",
      "True\n",
      "False\n"
     ]
    }
   ],
   "source": [
    "def isPalindromeInt(num):\n",
    "    if num < 0:\n",
    "        return False\n",
    "    \n",
    "    reverse = 0\n",
    "    x = num\n",
    "    \n",
    "    while num != 0:\n",
    "        reverse = reverse * 10 + num % 10\n",
    "        num //= 10\n",
    "    \n",
    "    return reverse == x\n",
    "\n",
    "print(isPalindromeInt(121))\n",
    "print(isPalindromeInt(-121))\n",
    "print(isPalindromeInt(3553))\n",
    "print(isPalindromeInt(257))"
   ]
  },
  {
   "cell_type": "code",
   "execution_count": null,
   "metadata": {},
   "outputs": [],
   "source": []
  }
 ],
 "metadata": {
  "kernelspec": {
   "display_name": "Python 3",
   "language": "python",
   "name": "python3"
  },
  "language_info": {
   "codemirror_mode": {
    "name": "ipython",
    "version": 3
   },
   "file_extension": ".py",
   "mimetype": "text/x-python",
   "name": "python",
   "nbconvert_exporter": "python",
   "pygments_lexer": "ipython3",
   "version": "3.8.3"
  }
 },
 "nbformat": 4,
 "nbformat_minor": 4
}
