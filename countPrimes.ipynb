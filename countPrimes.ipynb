{
 "cells": [
  {
   "cell_type": "markdown",
   "metadata": {},
   "source": [
    "**countPrimes**"
   ]
  },
  {
   "cell_type": "markdown",
   "metadata": {},
   "source": [
    "counts the number of prime numbers less than input(non-negative integer)"
   ]
  },
  {
   "cell_type": "markdown",
   "metadata": {},
   "source": [
    "**Input** = 10"
   ]
  },
  {
   "cell_type": "markdown",
   "metadata": {},
   "source": [
    "**Output** = 4"
   ]
  },
  {
   "cell_type": "markdown",
   "metadata": {},
   "source": [
    "**Solution 1**"
   ]
  },
  {
   "cell_type": "markdown",
   "metadata": {},
   "source": [
    "The runtime is O(N^2) and the space complexity is constant."
   ]
  },
  {
   "cell_type": "code",
   "execution_count": 1,
   "metadata": {},
   "outputs": [
    {
     "name": "stdout",
     "output_type": "stream",
     "text": [
      "4\n",
      "0\n",
      "46\n"
     ]
    }
   ],
   "source": [
    "def CountPrimes(n):\n",
    "    count = 0\n",
    "    for i in range(1,n):\n",
    "        if isPrime(i):\n",
    "            count += 1\n",
    "    return count\n",
    "\n",
    "def isPrime(n):\n",
    "    if n == 1:\n",
    "        return False\n",
    "    for i in range(2,n):\n",
    "        if n % i == 0:\n",
    "            return False\n",
    "    return True\n",
    "\n",
    "print(CountPrimes(10))\n",
    "print(CountPrimes(2))\n",
    "print(CountPrimes(200))"
   ]
  },
  {
   "cell_type": "markdown",
   "metadata": {},
   "source": [
    "**solution 2** "
   ]
  },
  {
   "cell_type": "markdown",
   "metadata": {},
   "source": [
    "This solution has a best runtime linear time O(N). Its space complexity in O(N)"
   ]
  },
  {
   "cell_type": "code",
   "execution_count": 3,
   "metadata": {},
   "outputs": [
    {
     "name": "stdout",
     "output_type": "stream",
     "text": [
      "4\n",
      "0\n",
      "46\n"
     ]
    }
   ],
   "source": [
    "def CountPrimes1(n):\n",
    "    \n",
    "    count = 0\n",
    "    \n",
    "    if (n == 0 or n == 1 or n== 2):\n",
    "        return 0\n",
    "    if (n == 2):\n",
    "        return 0 \n",
    "    \n",
    "    isNotPrime = [False]*n\n",
    "    \n",
    "    i = 2\n",
    "    \n",
    "    while i < n:\n",
    "        j = 1\n",
    "        \n",
    "        if (not isNotPrime[i]):\n",
    "            count += 1\n",
    "        while j *i < n:\n",
    "            isNotPrime[i*j] = True\n",
    "            j += 1\n",
    "        i += 1\n",
    "        \n",
    "    return count\n",
    "print(CountPrimes1(10))\n",
    "print(CountPrimes1(2))\n",
    "print(CountPrimes1(200))\n",
    "    "
   ]
  },
  {
   "cell_type": "code",
   "execution_count": null,
   "metadata": {},
   "outputs": [],
   "source": []
  }
 ],
 "metadata": {
  "kernelspec": {
   "display_name": "Python 3",
   "language": "python",
   "name": "python3"
  },
  "language_info": {
   "codemirror_mode": {
    "name": "ipython",
    "version": 3
   },
   "file_extension": ".py",
   "mimetype": "text/x-python",
   "name": "python",
   "nbconvert_exporter": "python",
   "pygments_lexer": "ipython3",
   "version": "3.7.4"
  }
 },
 "nbformat": 4,
 "nbformat_minor": 2
}
