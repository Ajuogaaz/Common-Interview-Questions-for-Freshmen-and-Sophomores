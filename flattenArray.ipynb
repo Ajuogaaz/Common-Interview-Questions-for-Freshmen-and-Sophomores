{
 "cells": [
  {
   "cell_type": "markdown",
   "metadata": {},
   "source": [
    "**Flatten Array**"
   ]
  },
  {
   "cell_type": "markdown",
   "metadata": {},
   "source": [
    "prints out all the elements in a 2D - array using recursion."
   ]
  },
  {
   "cell_type": "markdown",
   "metadata": {},
   "source": [
    "**Input** = ([[1,2,3], [4, 5, 6]])"
   ]
  },
  {
   "cell_type": "markdown",
   "metadata": {},
   "source": [
    "**Output** = \n",
    "1\n",
    "2\n",
    "3\n",
    "4\n",
    "5\n",
    "6"
   ]
  },
  {
   "cell_type": "markdown",
   "metadata": {},
   "source": [
    "The runtime is O(n x m), where n is the number of sublists and m is the number of items in the sublist. The space complexity is O(n)"
   ]
  },
  {
   "cell_type": "code",
   "execution_count": 2,
   "metadata": {},
   "outputs": [
    {
     "name": "stdout",
     "output_type": "stream",
     "text": [
      "1\n",
      "2\n",
      "3\n",
      "4\n",
      "5\n",
      "6\n",
      "7\n",
      "8\n",
      "9\n",
      "10\n",
      "None\n"
     ]
    }
   ],
   "source": [
    "def in_order(matrix, index=None, end=None):\n",
    "    if index is None or end is None:\n",
    "        index, end = 0, 0\n",
    "    if not matrix:\n",
    "        return\n",
    "    if index > len(matrix) - 1:\n",
    "        return\n",
    "    else:\n",
    "        print(matrix[index][end])\n",
    "        end += 1\n",
    "        if end > len(matrix[index]) - 1:\n",
    "            index += 1\n",
    "            end = 0\n",
    "    return in_order(matrix, index, end)\n",
    "\n",
    "\n",
    "print(in_order([[1, 2, 3, 4], [5, 6, 7], [8, 9], [10]]))"
   ]
  }
 ],
 "metadata": {
  "kernelspec": {
   "display_name": "Python 3",
   "language": "python",
   "name": "python3"
  },
  "language_info": {
   "codemirror_mode": {
    "name": "ipython",
    "version": 3
   },
   "file_extension": ".py",
   "mimetype": "text/x-python",
   "name": "python",
   "nbconvert_exporter": "python",
   "pygments_lexer": "ipython3",
   "version": "3.7.4"
  }
 },
 "nbformat": 4,
 "nbformat_minor": 2
}
