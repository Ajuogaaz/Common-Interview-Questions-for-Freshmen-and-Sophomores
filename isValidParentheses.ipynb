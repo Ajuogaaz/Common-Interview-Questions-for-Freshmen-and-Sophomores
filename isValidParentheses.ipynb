{
 "cells": [
  {
   "cell_type": "markdown",
   "metadata": {},
   "source": [
    "**isValidParentheses**"
   ]
  },
  {
   "cell_type": "markdown",
   "metadata": {},
   "source": [
    "checks if a given string of parentheses is balanced"
   ]
  },
  {
   "cell_type": "markdown",
   "metadata": {},
   "source": [
    "**Input** = (\"()\")"
   ]
  },
  {
   "cell_type": "markdown",
   "metadata": {},
   "source": [
    "**Output** = True"
   ]
  },
  {
   "cell_type": "markdown",
   "metadata": {},
   "source": [
    "The runtime is O(n) and the space complexity is O(n). "
   ]
  },
  {
   "cell_type": "code",
   "execution_count": 1,
   "metadata": {},
   "outputs": [
    {
     "name": "stdout",
     "output_type": "stream",
     "text": [
      "True\n",
      "False\n",
      "False\n",
      "False\n"
     ]
    }
   ],
   "source": [
    "def isValid(s):\n",
    "    if len(s) % 2 == 1:\n",
    "        return False\n",
    "    stack = []\n",
    "    openParentheses = {'(', '[', '{'}\n",
    "    BalancedParentheses = {('(', ')'), ('[', ']'), ('{', '}')}\n",
    "\n",
    "    for i, paren in enumerate(s):\n",
    "        if paren in openParentheses:\n",
    "            stack.append(paren)\n",
    "        else:\n",
    "            if not stack:\n",
    "                return False\n",
    "            checkBalanced = (stack.pop(), paren)\n",
    "\n",
    "            if checkBalanced not in BalancedParentheses:\n",
    "                return False\n",
    "    if not stack:\n",
    "        return True\n",
    "    else:\n",
    "        return False\n",
    "\n",
    "\n",
    "print(isValid('()[]{}'))\n",
    "print(isValid('[(])'))\n",
    "print(isValid('(('))\n",
    "print(isValid('){'))\n"
   ]
  }
 ],
 "metadata": {
  "kernelspec": {
   "display_name": "Python 3",
   "language": "python",
   "name": "python3"
  },
  "language_info": {
   "codemirror_mode": {
    "name": "ipython",
    "version": 3
   },
   "file_extension": ".py",
   "mimetype": "text/x-python",
   "name": "python",
   "nbconvert_exporter": "python",
   "pygments_lexer": "ipython3",
   "version": "3.7.4"
  }
 },
 "nbformat": 4,
 "nbformat_minor": 2
}
