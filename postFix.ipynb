{
 "cells": [
  {
   "cell_type": "markdown",
   "metadata": {},
   "source": [
    "reversePolish Notation"
   ]
  },
  {
   "cell_type": "markdown",
   "metadata": {},
   "source": [
    "uses the reverse polish notation to make binary computations."
   ]
  },
  {
   "cell_type": "markdown",
   "metadata": {},
   "source": [
    "**Input** = [\"11\", \"1\", \"-\"]"
   ]
  },
  {
   "cell_type": "markdown",
   "metadata": {},
   "source": [
    "**Output** = 10"
   ]
  },
  {
   "cell_type": "code",
   "execution_count": null,
   "metadata": {},
   "outputs": [],
   "source": [
    "The runtime is O(n) and the space complexity is O(logN)."
   ]
  },
  {
   "cell_type": "code",
   "execution_count": 2,
   "metadata": {},
   "outputs": [
    {
     "name": "stdout",
     "output_type": "stream",
     "text": [
      "22\n",
      "6\n",
      "9\n"
     ]
    }
   ],
   "source": [
    "import math\n",
    "\n",
    "\n",
    "def evalRPN(tokens):\n",
    "    myStack = []\n",
    "    for number in tokens:\n",
    "        if myStack and number in {'-', '+', '/', '*'}:\n",
    "            ans = 0\n",
    "            if number == '+':\n",
    "                ans = myStack.pop(-2) + myStack.pop(-1)\n",
    "            elif number == '-':\n",
    "                ans = myStack.pop(-2) - myStack.pop(-1)\n",
    "            elif number == '*':\n",
    "                ans = myStack.pop(-2) * myStack.pop(-1)\n",
    "            elif number == '/':\n",
    "                ans = math.trunc(myStack.pop(-2) / myStack.pop(-1))\n",
    "            myStack.append(ans)\n",
    "        else:\n",
    "            myStack.append(int(number))\n",
    "    return myStack[0]\n",
    "\n",
    "print(evalRPN([\"10\", \"6\", '9', '3', '+', \"-11\", '*', \"/\", \"*\", \"17\", \"+\", \"5\", \"+\"]))\n",
    "print(evalRPN([\"4\", \"13\", \"5\", \"/\", \"+\"]))\n",
    "print(evalRPN([\"2\", \"1\", \"+\", \"3\", \"*\"]))"
   ]
  },
  {
   "cell_type": "code",
   "execution_count": null,
   "metadata": {},
   "outputs": [],
   "source": []
  }
 ],
 "metadata": {
  "kernelspec": {
   "display_name": "Python 3",
   "language": "python",
   "name": "python3"
  },
  "language_info": {
   "codemirror_mode": {
    "name": "ipython",
    "version": 3
   },
   "file_extension": ".py",
   "mimetype": "text/x-python",
   "name": "python",
   "nbconvert_exporter": "python",
   "pygments_lexer": "ipython3",
   "version": "3.7.4"
  }
 },
 "nbformat": 4,
 "nbformat_minor": 2
}
