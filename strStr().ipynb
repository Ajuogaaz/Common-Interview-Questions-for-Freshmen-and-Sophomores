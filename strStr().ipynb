{
 "cells": [
  {
   "cell_type": "markdown",
   "metadata": {},
   "source": [
    "**Implement strStr**"
   ]
  },
  {
   "cell_type": "markdown",
   "metadata": {},
   "source": [
    "checks in a needle(string) is in a haystack(string) and returns the index of the first instance of the needle string in the haystack."
   ]
  },
  {
   "cell_type": "markdown",
   "metadata": {},
   "source": [
    "**Input** = ('Mississippi', 'is')"
   ]
  },
  {
   "cell_type": "markdown",
   "metadata": {},
   "source": [
    "**Output** = 1"
   ]
  },
  {
   "cell_type": "markdown",
   "metadata": {},
   "source": [
    "**Solution 1**"
   ]
  },
  {
   "cell_type": "markdown",
   "metadata": {},
   "source": [
    "The runtime is O(n) and the space complexity is O()"
   ]
  },
  {
   "cell_type": "code",
   "execution_count": 1,
   "metadata": {},
   "outputs": [
    {
     "name": "stdout",
     "output_type": "stream",
     "text": [
      "0\n"
     ]
    }
   ],
   "source": [
    "def strStr(haystack, needle):\n",
    "    if needle == \"\":\n",
    "        return 0\n",
    "    if len(needle) > len(haystack):\n",
    "        return -1\n",
    "    index = 0\n",
    "    while index < len(haystack):\n",
    "        if needle[0] == haystack[index]:\n",
    "            in_hay = haystack[index:index + len(needle)]\n",
    "            if in_hay == needle:\n",
    "                return index\n",
    "        index += 1\n",
    "    return -1\n",
    "\n",
    "\n",
    "print(strStr(\"aaaaa\", \"\"))"
   ]
  }
 ],
 "metadata": {
  "kernelspec": {
   "display_name": "Python 3",
   "language": "python",
   "name": "python3"
  },
  "language_info": {
   "codemirror_mode": {
    "name": "ipython",
    "version": 3
   },
   "file_extension": ".py",
   "mimetype": "text/x-python",
   "name": "python",
   "nbconvert_exporter": "python",
   "pygments_lexer": "ipython3",
   "version": "3.7.4"
  }
 },
 "nbformat": 4,
 "nbformat_minor": 2
}
