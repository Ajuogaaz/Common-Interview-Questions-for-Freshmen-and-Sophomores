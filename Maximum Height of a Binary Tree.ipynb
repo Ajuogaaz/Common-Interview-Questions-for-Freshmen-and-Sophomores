{
 "cells": [
  {
   "cell_type": "markdown",
   "metadata": {},
   "source": [
    "**Maximum Height of binary tree**"
   ]
  },
  {
   "cell_type": "markdown",
   "metadata": {},
   "source": [
    "Finds the maximum height of given binary tree"
   ]
  },
  {
   "cell_type": "code",
   "execution_count": null,
   "metadata": {},
   "outputs": [],
   "source": [
    "# Tree Class\n",
    "class Tree:\n",
    "    def __init__(self, key, left, right):\n",
    "        self.key = val\n",
    "        self.left = None\n",
    "        self.right = None"
   ]
  },
  {
   "cell_type": "markdown",
   "metadata": {},
   "source": [
    "**Input** = node ->(tree)"
   ]
  },
  {
   "cell_type": "markdown",
   "metadata": {},
   "source": [
    "**Output** = int"
   ]
  },
  {
   "cell_type": "markdown",
   "metadata": {},
   "source": [
    "**Solution 1**\n",
    "This algorithm first checks the root node is to see if it has a value, if it has none, the tree has no height.\n",
    "Else, it adds one to the answer and recurse of the left and right child of the nodes, calculating the maximum of each subtree bottom -up."
   ]
  },
  {
   "cell_type": "code",
   "execution_count": null,
   "metadata": {},
   "outputs": [],
   "source": [
    "def maxDepth(self, root: TreeNode) -> int:\n",
    "    if root is None:\n",
    "        return 0\n",
    "    else:\n",
    "        return max(1 + self.maxDepth(root.left), 1 + self.maxDepth(root.right))"
   ]
  }
 ],
 "metadata": {
  "kernelspec": {
   "display_name": "Python 3",
   "language": "python",
   "name": "python3"
  },
  "language_info": {
   "codemirror_mode": {
    "name": "ipython",
    "version": 3
   },
   "file_extension": ".py",
   "mimetype": "text/x-python",
   "name": "python",
   "nbconvert_exporter": "python",
   "pygments_lexer": "ipython3",
   "version": "3.7.4"
  }
 },
 "nbformat": 4,
 "nbformat_minor": 2
}
