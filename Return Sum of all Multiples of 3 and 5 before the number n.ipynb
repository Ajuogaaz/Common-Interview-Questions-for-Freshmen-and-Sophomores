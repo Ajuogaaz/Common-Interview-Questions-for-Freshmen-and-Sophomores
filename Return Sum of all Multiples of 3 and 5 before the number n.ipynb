{
 "cells": [
  {
   "cell_type": "markdown",
   "metadata": {},
   "source": [
    "# Multiples of 3 and 5"
   ]
  },
  {
   "cell_type": "markdown",
   "metadata": {},
   "source": [
    "If we list all the natural numbers below 10 that are multiples of 3 or 5, we get 3, 5, 6 and 9. The sum of these multiples is 23.\n",
    "\n",
    "Find the sum of all the multiples of 3 or 5 below 1000."
   ]
  },
  {
   "cell_type": "markdown",
   "metadata": {},
   "source": [
    "We will use the **UMPIRE GUIDE** to solve this"
   ]
  },
  {
   "cell_type": "markdown",
   "metadata": {},
   "source": [
    "**Understand** <br/> **input** = 10, **output** = 23 <br/> **input** = -10, **output** = -23 <br/>  **input** = 0  **output** = 0 <br/> **input** = 1 **output** = 0"
   ]
  },
  {
   "cell_type": "markdown",
   "metadata": {},
   "source": [
    "The runtime of this function is O(n)"
   ]
  },
  {
   "cell_type": "code",
   "execution_count": 10,
   "metadata": {},
   "outputs": [
    {
     "name": "stdout",
     "output_type": "stream",
     "text": [
      "23\n",
      "0\n",
      "0\n",
      "-23\n",
      "233168\n"
     ]
    }
   ],
   "source": [
    "def SumMultiples(n):\n",
    "   \n",
    "    negated = False\n",
    "    if n < 0:\n",
    "        n *= -1\n",
    "        negated = True\n",
    "    \n",
    "    sum3 = 0\n",
    "    sum5 = 0\n",
    "    \n",
    "    for i in range(n):\n",
    "        if i%3 == 0 and  i%5 == 0:\n",
    "            sum3 += i\n",
    "        elif i%3 == 0:\n",
    "            sum3 += i\n",
    "        elif i%5 == 0:\n",
    "            sum5 += i\n",
    "            \n",
    "    if negated:\n",
    "        return -(sum3 + sum5)\n",
    "    else:\n",
    "        return sum3 + sum5\n",
    "    \n",
    "print(SumMultiples(10))\n",
    "print(SumMultiples(0))\n",
    "print(SumMultiples(1))\n",
    "print(SumMultiples(-10))\n",
    "print(SumMultiples(1000))"
   ]
  },
  {
   "cell_type": "code",
   "execution_count": null,
   "metadata": {},
   "outputs": [],
   "source": []
  }
 ],
 "metadata": {
  "kernelspec": {
   "display_name": "Python 3",
   "language": "python",
   "name": "python3"
  },
  "language_info": {
   "codemirror_mode": {
    "name": "ipython",
    "version": 3
   },
   "file_extension": ".py",
   "mimetype": "text/x-python",
   "name": "python",
   "nbconvert_exporter": "python",
   "pygments_lexer": "ipython3",
   "version": "3.7.4"
  }
 },
 "nbformat": 4,
 "nbformat_minor": 2
}
