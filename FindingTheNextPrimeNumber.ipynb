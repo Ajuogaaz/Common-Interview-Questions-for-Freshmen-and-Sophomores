{
 "cells": [
  {
   "cell_type": "markdown",
   "metadata": {},
   "source": [
    "# Find the next smallest Prime Number"
   ]
  },
  {
   "cell_type": "markdown",
   "metadata": {},
   "source": [
    "Given a number integer input, regardless of whether its a prime number or not you return the next possible prime number. By next we mean you add to the input"
   ]
  },
  {
   "cell_type": "markdown",
   "metadata": {},
   "source": [
    "**input** = 3 ---- **output** = 5 <br /> **input** = 1 ---- **output** = 2 <br/>  **input** = 13  ---- **output** = 17  "
   ]
  },
  {
   "cell_type": "markdown",
   "metadata": {},
   "source": [
    "So in this a algorithm we first write a function that determines whether a number is Prime or not. There is a rigorous proof behind why its run time is O(log(n))"
   ]
  },
  {
   "cell_type": "code",
   "execution_count": 6,
   "metadata": {},
   "outputs": [
    {
     "name": "stdout",
     "output_type": "stream",
     "text": [
      "True\n",
      "False\n"
     ]
    }
   ],
   "source": [
    "import math\n",
    "def isPrime(n):\n",
    "    if(n <= 1): \n",
    "        return False\n",
    "    if(n <= 3): \n",
    "        return True\n",
    "    \n",
    "    if(n % 2 == 0 or n % 3 == 0): \n",
    "        return False\n",
    "\n",
    "    for i in range(5,int(math.sqrt(n) + 1), 6):  \n",
    "        if(n % i == 0 or n % (i + 2) == 0): \n",
    "            return False\n",
    "      \n",
    "    return True\n",
    "\n",
    "\n",
    "print(isPrime(1013))\n",
    "print(isPrime(1007))\n",
    "        \n",
    "    "
   ]
  },
  {
   "cell_type": "markdown",
   "metadata": {},
   "source": [
    "The second step is to use the algorithm that will peruse through numbers looking for the next PrimeNumber. the run time of this algorithm is O(mlogN) where logn is the runtime of the isPrime and m is the difference between the input and the next smallest Prime Number"
   ]
  },
  {
   "cell_type": "code",
   "execution_count": 7,
   "metadata": {},
   "outputs": [
    {
     "name": "stdout",
     "output_type": "stream",
     "text": [
      "1009\n"
     ]
    }
   ],
   "source": [
    "def nextPrime(N):\n",
    "    \n",
    "    if (N <= 1): \n",
    "        return 2\n",
    "  \n",
    "    prime = N \n",
    "    found = False\n",
    "    \n",
    "    while(not found): \n",
    "        prime = prime + 1\n",
    "  \n",
    "        if(isPrime(prime) == True): \n",
    "            found = True\n",
    "  \n",
    "    return prime \n",
    "\n",
    "\n",
    "print(nextPrime(1000))"
   ]
  },
  {
   "cell_type": "code",
   "execution_count": null,
   "metadata": {},
   "outputs": [],
   "source": []
  }
 ],
 "metadata": {
  "kernelspec": {
   "display_name": "Python 3",
   "language": "python",
   "name": "python3"
  },
  "language_info": {
   "codemirror_mode": {
    "name": "ipython",
    "version": 3
   },
   "file_extension": ".py",
   "mimetype": "text/x-python",
   "name": "python",
   "nbconvert_exporter": "python",
   "pygments_lexer": "ipython3",
   "version": "3.7.4"
  }
 },
 "nbformat": 4,
 "nbformat_minor": 2
}
