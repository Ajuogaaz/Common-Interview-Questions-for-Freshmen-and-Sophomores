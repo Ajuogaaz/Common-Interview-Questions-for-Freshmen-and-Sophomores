{
 "cells": [
  {
   "cell_type": "markdown",
   "metadata": {},
   "source": [
    "# Isomorphic Strings"
   ]
  },
  {
   "cell_type": "markdown",
   "metadata": {},
   "source": [
    "Given two strings s and t, determine if they are isomorphic.\n"
   ]
  },
  {
   "cell_type": "markdown",
   "metadata": {},
   "source": [
    "Two strings are isomorphic if the characters in s can be replaced to get t. No two characters may map to the same character, but a character may map to itself. "
   ]
  },
  {
   "cell_type": "markdown",
   "metadata": {},
   "source": [
    "Input and Output <br/>\n",
    "s = “foo”, t = “bar” -> false <br/>\n",
    "s = “mom”, t = “dad” -> true<br/>\n",
    "s = “test”, t = “boo” -> false <br/>\n",
    "s = “”, t = “” -> false <br />\n",
    "s = “mop”, t= “dad” -> false <br />\n"
   ]
  },
  {
   "cell_type": "markdown",
   "metadata": {},
   "source": [
    "This algorithm has a run time Complexity of O(n) and space complexity of O(2n)"
   ]
  },
  {
   "cell_type": "code",
   "execution_count": 25,
   "metadata": {},
   "outputs": [
    {
     "name": "stdout",
     "output_type": "stream",
     "text": [
      "True\n",
      "False\n",
      "False\n",
      "True\n"
     ]
    }
   ],
   "source": [
    "def isormophicString(s, t):\n",
    "    \n",
    "    myDict = {}\n",
    "    mySet = set()\n",
    "    \n",
    "    if len(t) != len(s):\n",
    "        return False\n",
    "    \n",
    "    for i in range(len(s)):\n",
    "        \n",
    "        if s[i] in myDict:\n",
    "            if myDict[s[i]] != t[i]:\n",
    "                return False\n",
    "        else:\n",
    "            if t[i] in mySet:\n",
    "                return False\n",
    "            else:\n",
    "                myDict[s[i]] = t[i]\n",
    "                mySet.add(t)\n",
    "    return True\n",
    "            \n",
    "print(isormophicString('mom', 'dad'))    \n",
    "print(isormophicString('foo', 'bar')) \n",
    "print(isormophicString('test', 'boo')) \n",
    "print(isormophicString('mop', 'day')) \n",
    "        \n"
   ]
  },
  {
   "cell_type": "code",
   "execution_count": null,
   "metadata": {},
   "outputs": [],
   "source": []
  }
 ],
 "metadata": {
  "kernelspec": {
   "display_name": "Python 3",
   "language": "python",
   "name": "python3"
  },
  "language_info": {
   "codemirror_mode": {
    "name": "ipython",
    "version": 3
   },
   "file_extension": ".py",
   "mimetype": "text/x-python",
   "name": "python",
   "nbconvert_exporter": "python",
   "pygments_lexer": "ipython3",
   "version": "3.7.4"
  }
 },
 "nbformat": 4,
 "nbformat_minor": 2
}
