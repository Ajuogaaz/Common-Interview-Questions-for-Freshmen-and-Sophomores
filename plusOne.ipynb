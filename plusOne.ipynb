{
 "cells": [
  {
   "cell_type": "markdown",
   "metadata": {},
   "source": [
    "**plusOne**"
   ]
  },
  {
   "cell_type": "markdown",
   "metadata": {},
   "source": [
    "computes the next number of an array of digits representing a non-negative integer."
   ]
  },
  {
   "cell_type": "markdown",
   "metadata": {},
   "source": [
    "**Input** = [1,2,3]"
   ]
  },
  {
   "cell_type": "markdown",
   "metadata": {},
   "source": [
    "**Output** = [1,2,4]"
   ]
  },
  {
   "cell_type": "markdown",
   "metadata": {},
   "source": [
    "**Solution 1**"
   ]
  },
  {
   "cell_type": "markdown",
   "metadata": {},
   "source": [
    "The runtime is _ and the space complexity is _."
   ]
  },
  {
   "cell_type": "code",
   "execution_count": 2,
   "metadata": {},
   "outputs": [
    {
     "name": "stdout",
     "output_type": "stream",
     "text": [
      "[2, 0, 0]\n",
      "[1, 0, 0]\n",
      "[1, 0, 1, 1]\n"
     ]
    }
   ],
   "source": [
    "def plusOne(n):\n",
    "    index  = 0\n",
    "    while(index < len(n)):\n",
    "        new_index = -index-1\n",
    "        if n[new_index] < 9:\n",
    "            n[new_index] += 1\n",
    "            break\n",
    "        curr = n[new_index] + 1\n",
    "        if curr == 10:\n",
    "            n[new_index] = 0\n",
    "        index += 1\n",
    "    if n[0] == 0:\n",
    "        n = [1] + n\n",
    "    return n\n",
    "\n",
    "print(plusOne([1,9,9]))\n",
    "print(plusOne([9,9]))\n",
    "print(plusOne([1,0,1,0]))"
   ]
  },
  {
   "cell_type": "code",
   "execution_count": null,
   "metadata": {},
   "outputs": [],
   "source": []
  }
 ],
 "metadata": {
  "kernelspec": {
   "display_name": "Python 3",
   "language": "python",
   "name": "python3"
  },
  "language_info": {
   "codemirror_mode": {
    "name": "ipython",
    "version": 3
   },
   "file_extension": ".py",
   "mimetype": "text/x-python",
   "name": "python",
   "nbconvert_exporter": "python",
   "pygments_lexer": "ipython3",
   "version": "3.7.4"
  }
 },
 "nbformat": 4,
 "nbformat_minor": 2
}
