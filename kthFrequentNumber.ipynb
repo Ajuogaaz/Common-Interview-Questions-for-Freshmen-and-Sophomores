{
 "cells": [
  {
   "cell_type": "markdown",
   "metadata": {},
   "source": [
    "**kthFrequentNumbers**"
   ]
  },
  {
   "cell_type": "markdown",
   "metadata": {},
   "source": [
    "Given a non-empty array of integers, return the k most frequent elements. \n",
    "assume 1<=k<=len(array)"
   ]
  },
  {
   "cell_type": "markdown",
   "metadata": {},
   "source": [
    "**Input** = ([1,0,0,1,-1,-1],2)"
   ]
  },
  {
   "cell_type": "markdown",
   "metadata": {},
   "source": [
    "**Output** = [1,0]"
   ]
  },
  {
   "cell_type": "markdown",
   "metadata": {},
   "source": [
    "**Solution 1**"
   ]
  },
  {
   "cell_type": "markdown",
   "metadata": {},
   "source": [
    "The runtime is O(logN) and the space complexity is O(N)"
   ]
  },
  {
   "cell_type": "code",
   "execution_count": 1,
   "metadata": {},
   "outputs": [
    {
     "name": "stdout",
     "output_type": "stream",
     "text": [
      "[1, 2]\n",
      "[1]\n",
      "[1, 3]\n",
      "[1, 0]\n"
     ]
    }
   ],
   "source": [
    "def kthFrequentElements(nums, k):\n",
    "    my_dict = {}\n",
    "    new_nums = []\n",
    "    count = 0\n",
    "    for num in nums:\n",
    "        if num not in my_dict:\n",
    "            my_dict.update({num: 1})\n",
    "        else:\n",
    "            my_dict[num] += 1\n",
    "    clean_nums = sorted(my_dict.items(), key=lambda item:item[1], reverse=True)\n",
    "\n",
    "    for i in range(len(clean_nums)):\n",
    "        if count < k:\n",
    "            new_nums += [clean_nums[i][0]]\n",
    "            count += 1\n",
    "        else:\n",
    "            break\n",
    "    return new_nums\n",
    "\n",
    "print(kthFrequentElements([1,1,1,2,2,3],2))\n",
    "print(kthFrequentElements([1],1))\n",
    "print(kthFrequentElements([2, 2, 2, 3, 3, 3, 3, 1, 1, 1, 1, 1], 2))\n",
    "print(kthFrequentElements([1,0,0,1,-1,-1],2))"
   ]
  },
  {
   "cell_type": "code",
   "execution_count": null,
   "metadata": {},
   "outputs": [],
   "source": []
  }
 ],
 "metadata": {
  "kernelspec": {
   "display_name": "Python 3",
   "language": "python",
   "name": "python3"
  },
  "language_info": {
   "codemirror_mode": {
    "name": "ipython",
    "version": 3
   },
   "file_extension": ".py",
   "mimetype": "text/x-python",
   "name": "python",
   "nbconvert_exporter": "python",
   "pygments_lexer": "ipython3",
   "version": "3.7.4"
  }
 },
 "nbformat": 4,
 "nbformat_minor": 2
}
