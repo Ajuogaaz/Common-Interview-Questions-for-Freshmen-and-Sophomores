{
 "cells": [
  {
   "cell_type": "code",
   "execution_count": null,
   "metadata": {},
   "outputs": [],
   "source": [
    "isIsomorphic"
   ]
  },
  {
   "cell_type": "code",
   "execution_count": null,
   "metadata": {},
   "outputs": [],
   "source": [
    "checks if two strings are isomorphic, that is every instance of a character maps only once to the corresponding character in the other string."
   ]
  },
  {
   "cell_type": "markdown",
   "metadata": {},
   "source": [
    "**Input** = ('mom','dad')"
   ]
  },
  {
   "cell_type": "markdown",
   "metadata": {},
   "source": [
    "**Output** = True"
   ]
  },
  {
   "cell_type": "markdown",
   "metadata": {},
   "source": [
    "**Solution**"
   ]
  },
  {
   "cell_type": "markdown",
   "metadata": {},
   "source": [
    "The runtime is O(N) and the space complexity is O(N)"
   ]
  },
  {
   "cell_type": "code",
   "execution_count": 3,
   "metadata": {},
   "outputs": [
    {
     "name": "stdout",
     "output_type": "stream",
     "text": [
      "False\n",
      "True\n"
     ]
    }
   ],
   "source": [
    "def isIsomorphic(str1, str2):\n",
    "    if len(str1) != len(str2):\n",
    "        return False\n",
    "    ptr_1 = 0\n",
    "    ptr_2 = 0\n",
    "    my_dict = {}\n",
    "    while ptr_1 < len(str1):\n",
    "        if str1[ptr_1] not in my_dict:\n",
    "            if str2[ptr_2] in my_dict.values():\n",
    "                return False\n",
    "            my_dict.update({str1[ptr_1]: str2[ptr_2]})\n",
    "        else:\n",
    "            if my_dict[str1[ptr_1]] != str2[ptr_2]:\n",
    "                return False\n",
    "        ptr_1 += 1\n",
    "        ptr_2 += 1\n",
    "    return True\n",
    "\n",
    "print(isIsomorphic('ab', 'aa'))\n",
    "print(isIsomorphic('lab','mat'))"
   ]
  },
  {
   "cell_type": "code",
   "execution_count": null,
   "metadata": {},
   "outputs": [],
   "source": []
  }
 ],
 "metadata": {
  "kernelspec": {
   "display_name": "Python 3",
   "language": "python",
   "name": "python3"
  },
  "language_info": {
   "codemirror_mode": {
    "name": "ipython",
    "version": 3
   },
   "file_extension": ".py",
   "mimetype": "text/x-python",
   "name": "python",
   "nbconvert_exporter": "python",
   "pygments_lexer": "ipython3",
   "version": "3.7.4"
  }
 },
 "nbformat": 4,
 "nbformat_minor": 2
}
