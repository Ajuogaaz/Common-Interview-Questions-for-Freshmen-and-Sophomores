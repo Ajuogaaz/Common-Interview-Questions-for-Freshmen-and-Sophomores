{
 "cells": [
  {
   "cell_type": "markdown",
   "metadata": {},
   "source": [
    "**isAlliteration**"
   ]
  },
  {
   "cell_type": "markdown",
   "metadata": {},
   "source": [
    "checks if a given array of group of words is an alliteration."
   ]
  },
  {
   "cell_type": "markdown",
   "metadata": {},
   "source": [
    "**Input** = ['Chicago','Canada','china']"
   ]
  },
  {
   "cell_type": "markdown",
   "metadata": {},
   "source": [
    "**Output** = True"
   ]
  },
  {
   "cell_type": "markdown",
   "metadata": {},
   "source": [
    "**Solution 1**"
   ]
  },
  {
   "cell_type": "markdown",
   "metadata": {},
   "source": [
    "The runtime is O(n) and the space complexity is O(1)."
   ]
  },
  {
   "cell_type": "code",
   "execution_count": 2,
   "metadata": {},
   "outputs": [
    {
     "name": "stdout",
     "output_type": "stream",
     "text": [
      "True\n",
      "True\n",
      "False\n"
     ]
    }
   ],
   "source": [
    "def isAlliteration(words):\n",
    "    for i in range(len(words)):\n",
    "        if i + 1 == len(words):\n",
    "            return True\n",
    "        if words[i][0].lower() != words[i+1][0].lower():\n",
    "            return False\n",
    "    return True\n",
    "\n",
    "test_1 = ['kelvin', 'Kwaku', 'kalyppo']\n",
    "\n",
    "test_2 = ['masaerati']\n",
    "\n",
    "test_3 = ['mexico', 'latina', 'beautiful']\n",
    "\n",
    "print(isAlliteration(test_1))\n",
    "print(isAlliteration(test_2))\n",
    "print(isAlliteration(test_3))"
   ]
  }
 ],
 "metadata": {
  "kernelspec": {
   "display_name": "Python 3",
   "language": "python",
   "name": "python3"
  },
  "language_info": {
   "codemirror_mode": {
    "name": "ipython",
    "version": 3
   },
   "file_extension": ".py",
   "mimetype": "text/x-python",
   "name": "python",
   "nbconvert_exporter": "python",
   "pygments_lexer": "ipython3",
   "version": "3.7.4"
  }
 },
 "nbformat": 4,
 "nbformat_minor": 2
}
