{
 "cells": [
  {
   "cell_type": "markdown",
   "metadata": {},
   "source": [
    "**checkAnagram** "
   ]
  },
  {
   "cell_type": "markdown",
   "metadata": {},
   "source": [
    "checks if two given strings are Anagrams."
   ]
  },
  {
   "cell_type": "markdown",
   "metadata": {},
   "source": [
    "Ex. s = \"kelvin\" and k = \"vielnk\" are anagrams."
   ]
  },
  {
   "cell_type": "markdown",
   "metadata": {},
   "source": [
    "**n1** =\"aaca\" ; **n2** = \"acca\""
   ]
  },
  {
   "cell_type": "markdown",
   "metadata": {},
   "source": [
    "**Output** = False"
   ]
  },
  {
   "cell_type": "markdown",
   "metadata": {},
   "source": [
    "**Solution 1**"
   ]
  },
  {
   "cell_type": "markdown",
   "metadata": {},
   "source": [
    "The runtime is _ and the space complexity is _."
   ]
  },
  {
   "cell_type": "code",
   "execution_count": 4,
   "metadata": {},
   "outputs": [
    {
     "name": "stdout",
     "output_type": "stream",
     "text": [
      "True\n",
      "False\n",
      "True\n",
      "False\n"
     ]
    }
   ],
   "source": [
    "def anagramCheck(s:str, t:str)-> bool:\n",
    "    if len(s) != len(t):\n",
    "        return False\n",
    "    s = sorted(s)\n",
    "    t = sorted(t)\n",
    "    \n",
    "    i = 0\n",
    "    while i < len(t):\n",
    "        if t[i] == s[i]:\n",
    "            i += 1\n",
    "        else:\n",
    "            return False\n",
    "    return True\n",
    "\n",
    "print(anagramCheck(\"linus\", \"iulns\"))\n",
    "print(anagramCheck(\"acaa\", \"carr\"))\n",
    "print(anagramCheck(\"aabac\", \"abaca\"))\n",
    "print(anagramCheck(\"baob\", \"bob\"))"
   ]
  },
  {
   "cell_type": "code",
   "execution_count": null,
   "metadata": {},
   "outputs": [],
   "source": []
  }
 ],
 "metadata": {
  "kernelspec": {
   "display_name": "Python 3",
   "language": "python",
   "name": "python3"
  },
  "language_info": {
   "codemirror_mode": {
    "name": "ipython",
    "version": 3
   },
   "file_extension": ".py",
   "mimetype": "text/x-python",
   "name": "python",
   "nbconvert_exporter": "python",
   "pygments_lexer": "ipython3",
   "version": "3.7.4"
  }
 },
 "nbformat": 4,
 "nbformat_minor": 2
}
