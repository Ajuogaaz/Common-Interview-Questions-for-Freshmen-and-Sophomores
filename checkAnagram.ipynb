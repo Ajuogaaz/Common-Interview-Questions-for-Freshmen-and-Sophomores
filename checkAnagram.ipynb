{
 "cells": [
  {
   "cell_type": "markdown",
   "metadata": {},
   "source": [
    "**checkAnagram** "
   ]
  },
  {
   "cell_type": "markdown",
   "metadata": {},
   "source": [
    "checks if two given strings are Anagrams."
   ]
  },
  {
   "cell_type": "markdown",
   "metadata": {},
   "source": [
    "Ex. s = \"kelvin\" and k = \"vielnk\" are anagrams."
   ]
  },
  {
   "cell_type": "markdown",
   "metadata": {},
   "source": [
    "**n1** =\"aaca\" ; **n2** = \"acca\""
   ]
  },
  {
   "cell_type": "markdown",
   "metadata": {},
   "source": [
    "**Output** = False"
   ]
  },
  {
   "cell_type": "markdown",
   "metadata": {},
   "source": [
    "**Solution 1**"
   ]
  },
  {
   "cell_type": "markdown",
   "metadata": {},
   "source": [
    "The runtime is _ and the space complexity is _."
   ]
  },
  {
   "cell_type": "code",
   "execution_count": 1,
   "metadata": {},
   "outputs": [
    {
     "name": "stdout",
     "output_type": "stream",
     "text": [
      "True\n",
      "False\n",
      "True\n",
      "False\n"
     ]
    }
   ],
   "source": [
    "def anagramCheck(s:str, t:str)-> bool:\n",
    "    if len(s) != len(t):\n",
    "        return False\n",
    "    s = sorted(s)\n",
    "    t = sorted(t)\n",
    "    return s == t\n",
    "\n",
    "print(anagramCheck(\"linus\", \"iulns\"))\n",
    "print(anagramCheck(\"acaa\", \"carr\"))\n",
    "print(anagramCheck(\"aabac\", \"abaca\"))\n",
    "print(anagramCheck(\"baob\", \"bob\"))"
   ]
  },
  {
   "cell_type": "markdown",
   "metadata": {},
   "source": [
    "**Solution 2**"
   ]
  },
  {
   "cell_type": "markdown",
   "metadata": {},
   "source": [
    "This solution uses hash tables by going thru the first string and updating the number of occurence of each character by one if it already exists and or creating one and setting the count to one. After, go thru the next string and if the char of the next strings exists in the hash table, you subtract one from the count, else return false since anagrams must have the same characters but ordered differently. \n",
    "Go through the remaining dict one more time checking if the count of each character is 0. After, the pass return true, else return false for any interation that the count is not 0. "
   ]
  }
 ],
 "metadata": {
  "kernelspec": {
   "display_name": "Python 3",
   "language": "python",
   "name": "python3"
  },
  "language_info": {
   "codemirror_mode": {
    "name": "ipython",
    "version": 3
   },
   "file_extension": ".py",
   "mimetype": "text/x-python",
   "name": "python",
   "nbconvert_exporter": "python",
   "pygments_lexer": "ipython3",
   "version": "3.7.4"
  }
 },
 "nbformat": 4,
 "nbformat_minor": 2
}
