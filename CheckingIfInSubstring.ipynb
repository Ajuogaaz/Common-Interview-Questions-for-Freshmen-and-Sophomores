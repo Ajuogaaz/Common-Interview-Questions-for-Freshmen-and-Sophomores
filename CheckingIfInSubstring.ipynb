{
 "cells": [
  {
   "cell_type": "markdown",
   "metadata": {},
   "source": [
    "### Substring"
   ]
  },
  {
   "cell_type": "markdown",
   "metadata": {},
   "source": [
    "**Solution1**"
   ]
  },
  {
   "cell_type": "markdown",
   "metadata": {},
   "source": [
    "The run time of this solution is `O(m*n)` (where m is sizeof the given subset and n is the string) and the space complexity O(1)"
   ]
  },
  {
   "cell_type": "markdown",
   "metadata": {},
   "source": [
    "**input** = laboratory, rat <br/> **output** = True <br/> **input**  = laboratory, rao <br/> **output** = False"
   ]
  },
  {
   "cell_type": "code",
   "execution_count": 12,
   "metadata": {},
   "outputs": [
    {
     "name": "stdout",
     "output_type": "stream",
     "text": [
      "True\n",
      "True\n",
      "False\n"
     ]
    }
   ],
   "source": [
    "def substring(input1, subset):\n",
    "    \n",
    "    if subset == \"\" or len(input1) < len(subset):\n",
    "        return False\n",
    "    \n",
    "    \n",
    "    for i in range(len(input1)):\n",
    "        \n",
    "        if input1[i] ==  subset[0] and len(input1) - i >= len(subset):\n",
    "            if input1[i:i+len(subset)] == subset:\n",
    "                return True\n",
    "    return False\n",
    "\n",
    "print(substring('laboratory', 'rat'))\n",
    "print(substring('laboratory', 'ratory'))\n",
    "print(substring('laboratory', 'rao'))\n",
    "            "
   ]
  }
 ],
 "metadata": {
  "kernelspec": {
   "display_name": "Python 3",
   "language": "python",
   "name": "python3"
  },
  "language_info": {
   "codemirror_mode": {
    "name": "ipython",
    "version": 3
   },
   "file_extension": ".py",
   "mimetype": "text/x-python",
   "name": "python",
   "nbconvert_exporter": "python",
   "pygments_lexer": "ipython3",
   "version": "3.7.4"
  }
 },
 "nbformat": 4,
 "nbformat_minor": 2
}
