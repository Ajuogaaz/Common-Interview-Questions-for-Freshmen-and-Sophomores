{
 "cells": [
  {
   "cell_type": "markdown",
   "metadata": {},
   "source": [
    "**Shell Sort**"
   ]
  },
  {
   "cell_type": "markdown",
   "metadata": {},
   "source": [
    "Read wikipedia article for how the shell sort works."
   ]
  },
  {
   "cell_type": "markdown",
   "metadata": {},
   "source": [
    "**Input** = ([4, 2, 5, 7])"
   ]
  },
  {
   "cell_type": "markdown",
   "metadata": {},
   "source": [
    "**Output** = [2, 4, 5, 7]"
   ]
  },
  {
   "cell_type": "markdown",
   "metadata": {},
   "source": [
    "**Solution 1**"
   ]
  },
  {
   "cell_type": "markdown",
   "metadata": {},
   "source": [
    "The runtime is O(n^2) and the space complexity is O(1)."
   ]
  },
  {
   "cell_type": "code",
   "execution_count": 2,
   "metadata": {},
   "outputs": [
    {
     "name": "stdout",
     "output_type": "stream",
     "text": [
      "[9, 11, 14, 16]\n",
      "[-1, 11, 14, 18, 19, 23, 29, 30, 37, 40]\n"
     ]
    }
   ],
   "source": [
    "def shellSort(arr):\n",
    "    stepper = len(arr) // 2\n",
    "    while stepper >= 1:\n",
    "        for i in range(stepper, len(arr), stepper):\n",
    "            if arr[i] < arr[i - stepper]:\n",
    "                arr[i], arr[i - stepper] = arr[i - stepper], arr[i]\n",
    "                for j in range(i, 0, -stepper):\n",
    "                    if arr[j] < arr[j-stepper]:\n",
    "                        arr[j], arr[j-stepper] = arr[j-stepper], arr[j]\n",
    "\n",
    "        stepper //= 2\n",
    "    return arr\n",
    "\n",
    "\n",
    "print(shellSort([14, 11, 16, 9]))\n",
    "print(shellSort([14, 18, 19, 37, 23, 40, 29, 30, 11, -1]))"
   ]
  }
 ],
 "metadata": {
  "kernelspec": {
   "display_name": "Python 3",
   "language": "python",
   "name": "python3"
  },
  "language_info": {
   "codemirror_mode": {
    "name": "ipython",
    "version": 3
   },
   "file_extension": ".py",
   "mimetype": "text/x-python",
   "name": "python",
   "nbconvert_exporter": "python",
   "pygments_lexer": "ipython3",
   "version": "3.7.4"
  }
 },
 "nbformat": 4,
 "nbformat_minor": 2
}
