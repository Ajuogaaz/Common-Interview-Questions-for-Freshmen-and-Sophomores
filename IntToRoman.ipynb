{
 "cells": [
  {
   "cell_type": "markdown",
   "metadata": {},
   "source": [
    "### intToRoman\n",
    "\n",
    "This function converts an integer to its equivalent Roman Numeral\n",
    "\n",
    "**Input:** 54\n",
    "\n",
    "**Output:** LIV\n",
    "\n",
    "#### Solution 1:\n",
    "\n",
    "Runtime O(n) since the outer loop runs a constant number of times and space complexity O(n) for storage of special integers and symbols"
   ]
  },
  {
   "cell_type": "code",
   "execution_count": 5,
   "metadata": {},
   "outputs": [
    {
     "name": "stdout",
     "output_type": "stream",
     "text": [
      "MMMMM\n",
      "CCC\n",
      "CDLXIX\n",
      "MMMDXLIX\n",
      "DCCCXCIX\n"
     ]
    }
   ],
   "source": [
    "def intToRoman(num):\n",
    "    # array of special num values\n",
    "    values = [1000, 900, 500, 400, 100, 90, 50, 40, 10, 9, 5, 4, 1]\n",
    "    # array of Roman Symbols\n",
    "    symbols = [\"M\", \"CM\", \"D\", \"CD\", \"C\", \"XC\", \"L\", \"XL\", \"X\", \"IX\", \"V\", \"IV\", \"I\"]\n",
    "\n",
    "    result = \"\"\n",
    "    index = 0\n",
    "    valLength = len(values)\n",
    "\n",
    "    while index < valLength and num >= 0:\n",
    "        while values[index] <= num:\n",
    "            num = num - values[index]\n",
    "            result = result + symbols[index]\n",
    "        index += 1\n",
    "\n",
    "    return result\n",
    "\n",
    "print(intToRoman(5000))\n",
    "print(intToRoman(300))\n",
    "print(intToRoman(469))\n",
    "print(intToRoman(3549))\n",
    "print(intToRoman(899))"
   ]
  },
  {
   "cell_type": "code",
   "execution_count": null,
   "metadata": {},
   "outputs": [],
   "source": []
  }
 ],
 "metadata": {
  "kernelspec": {
   "display_name": "Python 3",
   "language": "python",
   "name": "python3"
  },
  "language_info": {
   "codemirror_mode": {
    "name": "ipython",
    "version": 3
   },
   "file_extension": ".py",
   "mimetype": "text/x-python",
   "name": "python",
   "nbconvert_exporter": "python",
   "pygments_lexer": "ipython3",
   "version": "3.8.3"
  }
 },
 "nbformat": 4,
 "nbformat_minor": 4
}
