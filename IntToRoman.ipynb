{
 "cells": [
  {
   "cell_type": "markdown",
   "metadata": {},
   "source": [
    "### intToRoman\n",
    "\n",
    "This function converts an integer to its equivalent Roman Numeral\n",
    "\n",
    "**Constraints:** Integer is between 1 and 3999 inclusive\n",
    "\n",
    "**Input:** 54\n",
    "\n",
    "**Output:** LIV\n",
    "\n",
    "#### Solution 1:\n",
    "\n",
    "Runtime O(n) since the outer loop runs a constant number of times and space complexity O(1) "
   ]
  },
  {
   "cell_type": "code",
   "execution_count": 7,
   "metadata": {},
   "outputs": [
    {
     "name": "stdout",
     "output_type": "stream",
     "text": [
      "0\n",
      "0\n",
      "MMMCMXCIX\n",
      "I\n",
      "DCCCXCIX\n",
      "CDLXVII\n"
     ]
    }
   ],
   "source": [
    "def intToRoman(num):\n",
    "    # array of special num values\n",
    "    values = [1000, 900, 500, 400, 100, 90, 50, 40, 10, 9, 5, 4, 1]\n",
    "    # array of Roman Symbols\n",
    "    symbols = [\"M\", \"CM\", \"D\", \"CD\", \"C\", \"XC\", \"L\", \"XL\", \"X\", \"IX\", \"V\", \"IV\", \"I\"]\n",
    "    \n",
    "    # if num is equal to or less than 0 return '0'\n",
    "    if num <= 0:\n",
    "        return '0'\n",
    "\n",
    "    result = \"\"\n",
    "    index = 0\n",
    "    valLength = len(values)\n",
    "\n",
    "    while index < valLength and num >= 0:\n",
    "        while values[index] <= num:\n",
    "            num = num - values[index]\n",
    "            result = result + symbols[index]\n",
    "        index += 1\n",
    "\n",
    "    return result\n",
    "\n",
    "print(intToRoman(-5))\n",
    "print(intToRoman(0))\n",
    "print(intToRoman(3999))\n",
    "print(intToRoman(1))\n",
    "print(intToRoman(899))\n",
    "print(intToRoman(467))"
   ]
  },
  {
   "cell_type": "code",
   "execution_count": null,
   "metadata": {},
   "outputs": [],
   "source": []
  }
 ],
 "metadata": {
  "kernelspec": {
   "display_name": "Python 3",
   "language": "python",
   "name": "python3"
  },
  "language_info": {
   "codemirror_mode": {
    "name": "ipython",
    "version": 3
   },
   "file_extension": ".py",
   "mimetype": "text/x-python",
   "name": "python",
   "nbconvert_exporter": "python",
   "pygments_lexer": "ipython3",
   "version": "3.8.3"
  }
 },
 "nbformat": 4,
 "nbformat_minor": 4
}
