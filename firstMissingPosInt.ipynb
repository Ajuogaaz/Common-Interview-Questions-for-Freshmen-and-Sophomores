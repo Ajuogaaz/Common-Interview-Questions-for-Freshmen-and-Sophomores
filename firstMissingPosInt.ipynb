{
 "cells": [
  {
   "cell_type": "markdown",
   "metadata": {},
   "source": [
    "**firstMissingPosInt**"
   ]
  },
  {
   "cell_type": "markdown",
   "metadata": {},
   "source": [
    "finds the first missing non-negative number."
   ]
  },
  {
   "cell_type": "markdown",
   "metadata": {},
   "source": [
    "**Input** = [2,1,0]"
   ]
  },
  {
   "cell_type": "markdown",
   "metadata": {},
   "source": [
    "**Output** = 3"
   ]
  },
  {
   "cell_type": "markdown",
   "metadata": {},
   "source": [
    "**Solution 1**"
   ]
  },
  {
   "cell_type": "markdown",
   "metadata": {},
   "source": [
    "The runtime is 0(N^2) and the the space complexity is constant. This is the Bruteforce solution."
   ]
  },
  {
   "cell_type": "code",
   "execution_count": 2,
   "metadata": {},
   "outputs": [
    {
     "name": "stdout",
     "output_type": "stream",
     "text": [
      "1\n",
      "4\n",
      "7\n"
     ]
    }
   ],
   "source": [
    "def firstMissingPosNum(n):\n",
    "    n = sorted(n)\n",
    "    answer = 1\n",
    "    while True:\n",
    "        if answer in n:\n",
    "            answer += 1\n",
    "        else:\n",
    "            return answer\n",
    "        \n",
    "print(firstMissingPosNum([0]))\n",
    "print(firstMissingPosNum([-3, -3, -4, 0,1,3,6,2]))\n",
    "print(firstMissingPosNum([1,2,3,4,5,6,100,150,130]))"
   ]
  },
  {
   "cell_type": "markdown",
   "metadata": {},
   "source": [
    "This solution runs in O(n) time. and the space complexity is constant"
   ]
  },
  {
   "cell_type": "code",
   "execution_count": 19,
   "metadata": {},
   "outputs": [
    {
     "name": "stdout",
     "output_type": "stream",
     "text": [
      "1\n",
      "5\n",
      "7\n"
     ]
    }
   ],
   "source": [
    "def firstMissingPosNumb1(A):\n",
    "    \n",
    "    if len(A) == 0:\n",
    "        return 1\n",
    "    \n",
    "    for i in range(len(A)):\n",
    "        \n",
    "        while(A[i] > 0 and A[i] <= len(A) and A[A[i] - 1] != A[i]):\n",
    "            \n",
    "            temp = A[A[i] - 1] \n",
    "            A[A[i] - 1]  = A[i]\n",
    "            A[i] = temp\n",
    "            \n",
    "    \n",
    "    \n",
    "    for i in range(len(A)):\n",
    "        if A[i] != i+1:\n",
    "            return i+1\n",
    "            \n",
    "    \n",
    "    \n",
    "print(firstMissingPosNumb1([0]))\n",
    "print(firstMissingPosNumb1([-3, -3, -4, 4, 0, 1, 3, 6, 2]))\n",
    "print(firstMissingPosNumb1([1,4,5,6,100,150, 3, 2, 130]))  \n",
    "    "
   ]
  },
  {
   "cell_type": "code",
   "execution_count": null,
   "metadata": {},
   "outputs": [],
   "source": []
  }
 ],
 "metadata": {
  "kernelspec": {
   "display_name": "Python 3",
   "language": "python",
   "name": "python3"
  },
  "language_info": {
   "codemirror_mode": {
    "name": "ipython",
    "version": 3
   },
   "file_extension": ".py",
   "mimetype": "text/x-python",
   "name": "python",
   "nbconvert_exporter": "python",
   "pygments_lexer": "ipython3",
   "version": "3.7.4"
  }
 },
 "nbformat": 4,
 "nbformat_minor": 2
}
