{
 "cells": [
  {
   "cell_type": "markdown",
   "metadata": {},
   "source": [
    "**Binary Search**"
   ]
  },
  {
   "cell_type": "markdown",
   "metadata": {},
   "source": [
    "Implementation of the binary search algorithm. https://en.wikipedia.org/wiki/Binary_search_algorithm.\n",
    "Note that the following code already takes a sorted list. "
   ]
  },
  {
   "cell_type": "markdown",
   "metadata": {},
   "source": [
    "**Input** = ([1,4,5,6,7,8,20,23,45], 8)"
   ]
  },
  {
   "cell_type": "markdown",
   "metadata": {},
   "source": [
    "**Output** = True"
   ]
  },
  {
   "cell_type": "markdown",
   "metadata": {},
   "source": [
    "The runtime is O(logN) since every increase in the input takes one more operation to get the result. The space complexity is O(1)."
   ]
  },
  {
   "cell_type": "markdown",
   "metadata": {},
   "source": [
    "**Solution 1**"
   ]
  },
  {
   "cell_type": "code",
   "execution_count": 2,
   "metadata": {},
   "outputs": [
    {
     "name": "stdout",
     "output_type": "stream",
     "text": [
      "True\n",
      "False\n",
      "True\n",
      "True\n",
      "True\n"
     ]
    }
   ],
   "source": [
    "def binary_search(sorted_l, target):\n",
    "    return _binary_search_helper(target, sorted_l, 0, len(sorted_l) - 1)\n",
    "\n",
    "\n",
    "def _binary_search_helper(target, l, min_index, max_index):\n",
    "    center_index = (min_index + max_index) // 2\n",
    "    center = l[center_index]\n",
    "\n",
    "    if target == center:\n",
    "        return True\n",
    "    elif len(l[min_index:max_index]) == 0:\n",
    "        return False\n",
    "    elif target < center:\n",
    "        return _binary_search_helper(target, l, min_index, center_index-1)\n",
    "    elif target > center:\n",
    "        return _binary_search_helper(target, l, center_index+1, max_index)\n",
    "\n",
    "\n",
    "print(binary_search([1, 2, 3, 4, 5], 4))\n",
    "print(binary_search([1, 4, 7, 8], 3))\n",
    "print(binary_search([1, 4, 5, 6, 7, 8, 20, 23, 45], 8))\n",
    "print(binary_search([17, 20, 26, 31, 44, 54, 55, 65, 77, 93], 54))\n",
    "print(binary_search([1, 4, 7, 8], 7))"
   ]
  },
  {
   "cell_type": "code",
   "execution_count": null,
   "metadata": {},
   "outputs": [],
   "source": []
  }
 ],
 "metadata": {
  "kernelspec": {
   "display_name": "Python 3",
   "language": "python",
   "name": "python3"
  },
  "language_info": {
   "codemirror_mode": {
    "name": "ipython",
    "version": 3
   },
   "file_extension": ".py",
   "mimetype": "text/x-python",
   "name": "python",
   "nbconvert_exporter": "python",
   "pygments_lexer": "ipython3",
   "version": "3.7.4"
  }
 },
 "nbformat": 4,
 "nbformat_minor": 2
}
