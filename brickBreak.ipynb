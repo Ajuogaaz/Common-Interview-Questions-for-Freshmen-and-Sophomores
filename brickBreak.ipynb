{
 "cells": [
  {
   "cell_type": "markdown",
   "metadata": {},
   "source": [
    "**brickBreak**"
   ]
  },
  {
   "cell_type": "markdown",
   "metadata": {},
   "source": [
    "switches the character in the given string with the space character."
   ]
  },
  {
   "cell_type": "markdown",
   "metadata": {},
   "source": [
    "**Input** = (' ---- -',2)"
   ]
  },
  {
   "cell_type": "markdown",
   "metadata": {},
   "source": [
    "**Output** =  - -- -"
   ]
  },
  {
   "cell_type": "markdown",
   "metadata": {},
   "source": [
    "**Solution 1**"
   ]
  },
  {
   "cell_type": "markdown",
   "metadata": {},
   "source": [
    "The runtime is O(1) and the space complexity is O(1)."
   ]
  },
  {
   "cell_type": "code",
   "execution_count": 2,
   "metadata": {},
   "outputs": [
    {
     "name": "stdout",
     "output_type": "stream",
     "text": [
      "    - - -\n",
      " ---\n"
     ]
    }
   ],
   "source": [
    "def brickBreak(string, index):\n",
    "    char = string[index]\n",
    "    if char == '-':\n",
    "        string = string[:index] + ' ' + string[index+1:]\n",
    "    return string\n",
    "\n",
    "print(brickBreak('    - - -', 5))\n",
    "print(brickBreak('----', 0))"
   ]
  }
 ],
 "metadata": {
  "kernelspec": {
   "display_name": "Python 3",
   "language": "python",
   "name": "python3"
  },
  "language_info": {
   "codemirror_mode": {
    "name": "ipython",
    "version": 3
   },
   "file_extension": ".py",
   "mimetype": "text/x-python",
   "name": "python",
   "nbconvert_exporter": "python",
   "pygments_lexer": "ipython3",
   "version": "3.7.4"
  }
 },
 "nbformat": 4,
 "nbformat_minor": 2
}
