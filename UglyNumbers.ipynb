{
 "cells": [
  {
   "cell_type": "markdown",
   "metadata": {},
   "source": [
    "### Ugly Number\n",
    "\n",
    "Write a program to find the n-th ugly number. Ugly numbers are **positive** numbers whose prime factors\n",
    "only include 2, 3, 5\n",
    "\n",
    "#### Example\n",
    "**Input**: n = 10\n",
    "\n",
    "**Output**: 12\n",
    "\n",
    "**Sequence**: 1, 2, 3, 4, 5, 6, 8, 9, 10, **12**\n",
    "\n",
    "**Note**: 1 is an ugly number; n **does not exceed 1690**\n",
    "\n",
    "\n",
    "**Solution 1**\n",
    "\n",
    "Brute Force Approach; Time complexity O(nlogn)and space complexity O(1)"
   ]
  },
  {
   "cell_type": "code",
   "execution_count": 4,
   "metadata": {},
   "outputs": [
    {
     "name": "stdout",
     "output_type": "stream",
     "text": [
      "12\n",
      "-1\n",
      "16200\n"
     ]
    }
   ],
   "source": [
    "# Brute force approach\n",
    "\n",
    "# helper method that determines whether an integer is ugly\n",
    "def isUgly(num):\n",
    "    if num <= 0:\n",
    "        return False\n",
    "    \n",
    "    while num > 1:\n",
    "        if num % 2 == 0:\n",
    "            num = num/2\n",
    "        elif num % 3 == 0:\n",
    "            num = num/3\n",
    "        elif num % 5 == 0:\n",
    "            num = num/5\n",
    "        else:\n",
    "            return False\n",
    "        \n",
    "    return True\n",
    "\n",
    "\n",
    "# main method that determines the n-th ugly number\n",
    "def nthUglyNum(n):\n",
    "    # if n is negative or equal to 0, return -1\n",
    "    if n <= 0:\n",
    "        return -1\n",
    "    i = 1\n",
    "    count = 1\n",
    "    \n",
    "    # check all numbers until count is equal to n\n",
    "    while count < n:\n",
    "        i += 1\n",
    "        if isUgly(i):\n",
    "            count += 1\n",
    "    return i\n",
    "\n",
    "\n",
    "print(nthUglyNum(10))\n",
    "print(nthUglyNum(-1))\n",
    "print(nthUglyNum(200))"
   ]
  },
  {
   "cell_type": "markdown",
   "metadata": {},
   "source": [
    "**Solution 2**\n",
    "\n",
    "Time efficient solution: O(n) time complexity and O(n) space complexity"
   ]
  },
  {
   "cell_type": "code",
   "execution_count": 11,
   "metadata": {},
   "outputs": [
    {
     "name": "stdout",
     "output_type": "stream",
     "text": [
      "12\n",
      "-1\n",
      "16200\n"
     ]
    }
   ],
   "source": [
    "def nthUglyNum(num):\n",
    "    # if num is negative or equal to 0\n",
    "    if num <= 0:\n",
    "        return -1\n",
    "    \n",
    "    # array to store ugly numbers between 1 and n \n",
    "    uglyNum = [0] * num\n",
    "    \n",
    "    # the first number is 1\n",
    "    uglyNum[0] = 1\n",
    "    \n",
    "    # index values to keep track of the multiples\n",
    "    index2 = index3 = index5 = 0\n",
    "    \n",
    "    # variables to keep track of next multiple values of factors 2,3,5\n",
    "    next_mult_2 = 2\n",
    "    next_mult_3 = 3\n",
    "    next_mult_5 = 5\n",
    "    \n",
    "    # populate array with ugly numbers between 1 and n\n",
    "    for i in range(1, num):\n",
    "        # set the next ugly number in the array based on the smallest one\n",
    "        uglyNum[i] = min(next_mult_2, next_mult_3, next_mult_5)\n",
    "        \n",
    "        # increment the appropriate index\n",
    "        if uglyNum[i] == next_mult_2:\n",
    "            index2 += 1\n",
    "            next_mult_2 = uglyNum[index2] * 2\n",
    "        if uglyNum[i] == next_mult_3:\n",
    "            index3 += 1\n",
    "            next_mult_3 = uglyNum[index3] * 3\n",
    "        if uglyNum[i] == next_mult_5:\n",
    "            index5 += 1\n",
    "            next_mult_5 = uglyNum[index5] * 5\n",
    "            \n",
    "    return uglyNum[num-1]\n",
    "\n",
    "\n",
    "print(nthUglyNum(10))\n",
    "print(nthUglyNum(-1))\n",
    "print(nthUglyNum(200))"
   ]
  },
  {
   "cell_type": "code",
   "execution_count": null,
   "metadata": {},
   "outputs": [],
   "source": []
  }
 ],
 "metadata": {
  "kernelspec": {
   "display_name": "Python 3",
   "language": "python",
   "name": "python3"
  },
  "language_info": {
   "codemirror_mode": {
    "name": "ipython",
    "version": 3
   },
   "file_extension": ".py",
   "mimetype": "text/x-python",
   "name": "python",
   "nbconvert_exporter": "python",
   "pygments_lexer": "ipython3",
   "version": "3.8.3"
  }
 },
 "nbformat": 4,
 "nbformat_minor": 4
}
