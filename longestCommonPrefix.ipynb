{
 "cells": [
  {
   "cell_type": "markdown",
   "metadata": {},
   "source": [
    "### Longest Common Prefix\n",
    "\n",
    "Find the longest common prefix amongst an array of strings\n",
    "\n",
    "If there's no common prefix, return an empty string \"\"\n",
    "\n",
    "### Example 1\n",
    "**Input** : [\"flower\",\"flow\", \"flight\"]\n",
    "**Output** : \"fl\"\n",
    "\n",
    "### Example 2\n",
    "**Input** : [\"dog\", \"racecar\", \"car\"]\n",
    "**Output** : \"\"\n",
    "\n",
    "\n",
    "#### Solution 1 (indexing method)\n",
    "This solution has a runtrime complexity of O(n) and space complexity O(1)"
   ]
  },
  {
   "cell_type": "code",
   "execution_count": 2,
   "metadata": {},
   "outputs": [
    {
     "name": "stdout",
     "output_type": "stream",
     "text": [
      "fl\n",
      "\n",
      "gee\n"
     ]
    }
   ],
   "source": [
    "def longestCommonPrefix(strs):\n",
    "    prefix = ''\n",
    "    if len(strs) == 0:\n",
    "        return prefix\n",
    "\n",
    "    # use first string to compare with the rest of the strings in array\n",
    "    for index in range(0, len(strs[0])):\n",
    "        # get character at index position in the string\n",
    "        c = strs[0][index]\n",
    "        \n",
    "        # compare the character at index position for every string\n",
    "        for i in range(1, len(strs)):\n",
    "            # if out of bounds or characters don't match return prefix\n",
    "            if index == len(strs[i]) or strs[i][index] != c:\n",
    "                return prefix\n",
    "            \n",
    "        # if character matches for every string append to prefix string\n",
    "        prefix += c\n",
    "\n",
    "    return prefix\n",
    "\n",
    "\n",
    "array = ['flower', 'flow', 'flight']\n",
    "array2 = ['dog', 'racecar', 'car']\n",
    "array3 = ['geeks', 'geek', 'gee']\n",
    "\n",
    "print(longestCommonPrefix(array))\n",
    "print(longestCommonPrefix(array2))\n",
    "print(longestCommonPrefix(array3))"
   ]
  },
  {
   "cell_type": "markdown",
   "metadata": {},
   "source": [
    "#### Solution 2 (substring method)\n",
    "\n",
    "This solution has O(n) runtime complexity and O(1) space complexity. This approach takes the first string as the prefix,\n",
    "then reduces it a character at a time until it finds the common substring"
   ]
  },
  {
   "cell_type": "code",
   "execution_count": 4,
   "metadata": {},
   "outputs": [
    {
     "name": "stdout",
     "output_type": "stream",
     "text": [
      "fl\n",
      "\n",
      "gee\n"
     ]
    }
   ],
   "source": [
    "def longestCommonPrefix(strs):\n",
    "    # if array is empty\n",
    "    if len(strs)== 0:\n",
    "        return \"\"\n",
    "    \n",
    "    # take first string in array as prefix\n",
    "    prefix = strs[0]\n",
    "    \n",
    "    # loop through all strings in array from second position\n",
    "    for i in range(1, len(strs)):\n",
    "        # if prefix doesn't exist in that string\n",
    "        while strs[i].find(prefix) == -1:\n",
    "            # remove last character from prefix\n",
    "            prefix = prefix[0: len(prefix)-1]\n",
    "            \n",
    "            if len(prefix) == 0:\n",
    "                return '' \n",
    "            \n",
    "    return prefix\n",
    "\n",
    "\n",
    "array = ['flower', 'flow', 'flight']\n",
    "array2 = ['dog', 'racecar', 'car']\n",
    "array3 = ['geeks', 'geek', 'gee']\n",
    "\n",
    "print(longestCommonPrefix(array))\n",
    "print(longestCommonPrefix(array2))\n",
    "print(longestCommonPrefix(array3))"
   ]
  },
  {
   "cell_type": "code",
   "execution_count": null,
   "metadata": {},
   "outputs": [],
   "source": []
  }
 ],
 "metadata": {
  "kernelspec": {
   "display_name": "Python 3",
   "language": "python",
   "name": "python3"
  },
  "language_info": {
   "codemirror_mode": {
    "name": "ipython",
    "version": 3
   },
   "file_extension": ".py",
   "mimetype": "text/x-python",
   "name": "python",
   "nbconvert_exporter": "python",
   "pygments_lexer": "ipython3",
   "version": "3.8.3"
  }
 },
 "nbformat": 4,
 "nbformat_minor": 4
}
