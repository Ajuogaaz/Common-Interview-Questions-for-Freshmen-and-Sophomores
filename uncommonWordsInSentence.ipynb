{
 "cells": [
  {
   "cell_type": "markdown",
   "metadata": {},
   "source": [
    "**uncommonWordsInSentence**"
   ]
  },
  {
   "cell_type": "markdown",
   "metadata": {},
   "source": [
    "Finds the words in two strings that are not common in either string."
   ]
  },
  {
   "cell_type": "markdown",
   "metadata": {},
   "source": [
    "**Input** = (\"I love you\", \"I miss you\")"
   ]
  },
  {
   "cell_type": "markdown",
   "metadata": {},
   "source": [
    "**Output** = [\"love\", \"miss\"]"
   ]
  },
  {
   "cell_type": "markdown",
   "metadata": {},
   "source": [
    "**Solution 1**"
   ]
  },
  {
   "cell_type": "markdown",
   "metadata": {},
   "source": [
    "The runtime is O() and the space complexity is O()."
   ]
  },
  {
   "cell_type": "code",
   "execution_count": null,
   "metadata": {},
   "outputs": [
    {
     "name": "stdout",
     "output_type": "stream",
     "text": [
      "[]\n",
      "['I', 'can']\n"
     ]
    }
   ],
   "source": [
    "def uncommonFromSentences(A, B):\n",
    "    uncommonWords = []\n",
    "    A = A.split()\n",
    "    B = B.split()\n",
    "    C = A + B\n",
    "    my_dict = {}\n",
    "\n",
    "    for i in C:\n",
    "        if i in my_dict:\n",
    "            my_dict[i] += 1\n",
    "        else:\n",
    "            my_dict[i] = 1\n",
    "\n",
    "    for a in my_dict:\n",
    "        if my_dict[a] == 1:\n",
    "            uncommonWords.append(a)\n",
    "    return uncommonWords\n",
    "\n",
    "\n",
    "print(uncommonFromSentences(\" \", \" \"))\n",
    "print(uncommonFromSentences(\"I\", \"can\"))\n",
    "print(uncommonFromSentences(\"Hola senorita\" \"Hola senora\"))"
   ]
  }
 ],
 "metadata": {
  "kernelspec": {
   "display_name": "Python 3",
   "language": "python",
   "name": "python3"
  },
  "language_info": {
   "codemirror_mode": {
    "name": "ipython",
    "version": 3
   },
   "file_extension": ".py",
   "mimetype": "text/x-python",
   "name": "python",
   "nbconvert_exporter": "python",
   "pygments_lexer": "ipython3",
   "version": "3.7.4"
  }
 },
 "nbformat": 4,
 "nbformat_minor": 2
}
