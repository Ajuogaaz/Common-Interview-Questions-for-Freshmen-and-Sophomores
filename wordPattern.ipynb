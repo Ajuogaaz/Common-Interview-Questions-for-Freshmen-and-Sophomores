{
 "cells": [
  {
   "cell_type": "markdown",
   "metadata": {},
   "source": [
    "**wordPattern**"
   ]
  },
  {
   "cell_type": "markdown",
   "metadata": {},
   "source": [
    "Given two strings, pattern and string, it checks if the letters in the pattern matches to a unique word in the string."
   ]
  },
  {
   "cell_type": "markdown",
   "metadata": {},
   "source": [
    "**Input** = ('ab', 'me you')"
   ]
  },
  {
   "cell_type": "markdown",
   "metadata": {},
   "source": [
    "**Output** = True"
   ]
  },
  {
   "cell_type": "markdown",
   "metadata": {},
   "source": [
    "**Solution 1**"
   ]
  },
  {
   "cell_type": "markdown",
   "metadata": {},
   "source": [
    "The runtime is O(n) and the space complexity is O(1)"
   ]
  },
  {
   "cell_type": "code",
   "execution_count": 1,
   "metadata": {},
   "outputs": [
    {
     "name": "stdout",
     "output_type": "stream",
     "text": [
      "True\n",
      "False\n",
      "False\n",
      "False\n",
      "False\n",
      "True\n",
      "False\n"
     ]
    }
   ],
   "source": [
    "def wordPattern(pattern, string):\n",
    "    string = string.split()\n",
    "    if len(string) != len(pattern):\n",
    "        return False\n",
    "    my_dict = {}\n",
    "    i = 0\n",
    "    while i < len(pattern):\n",
    "        if pattern[i] in my_dict:\n",
    "            if my_dict[pattern[i]] != string[i]:\n",
    "                return False\n",
    "        else:\n",
    "            if string[i] in my_dict.values():\n",
    "                return False\n",
    "            my_dict.update({pattern[i]: string[i]})\n",
    "        i += 1\n",
    "    return True\n",
    "\n",
    "print(wordPattern('abba', 'dog cat cat dog'))\n",
    "print(wordPattern('abba', 'dog cat cat fish'))\n",
    "print(wordPattern('aaaa', 'dog cat cat dog'))\n",
    "print(wordPattern(\"abba\", \"dog dog dog dog\"))\n",
    "print(wordPattern(\"a\", ''))\n",
    "print(wordPattern('e', 'eureka'))\n",
    "print(wordPattern('jquery', 'jquery'))"
   ]
  }
 ],
 "metadata": {
  "kernelspec": {
   "display_name": "Python 3",
   "language": "python",
   "name": "python3"
  },
  "language_info": {
   "codemirror_mode": {
    "name": "ipython",
    "version": 3
   },
   "file_extension": ".py",
   "mimetype": "text/x-python",
   "name": "python",
   "nbconvert_exporter": "python",
   "pygments_lexer": "ipython3",
   "version": "3.7.4"
  }
 },
 "nbformat": 4,
 "nbformat_minor": 2
}
