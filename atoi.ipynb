{
 "cells": [
  {
   "cell_type": "markdown",
   "metadata": {},
   "source": [
    "**atoi --> String to Integer**"
   ]
  },
  {
   "cell_type": "markdown",
   "metadata": {},
   "source": [
    "Converts a given string to an integer"
   ]
  },
  {
   "cell_type": "markdown",
   "metadata": {},
   "source": [
    "the returned integer is the integral number in the string and it should be the after the white space ends. \n",
    "if no number exists it returns zero. \n",
    "if the number exceeds the signed int-max and int_min it returns the allocated integers respectively."
   ]
  },
  {
   "cell_type": "markdown",
   "metadata": {},
   "source": [
    "**Input** = '       -20'"
   ]
  },
  {
   "cell_type": "markdown",
   "metadata": {},
   "source": [
    "**Output** = -20"
   ]
  },
  {
   "cell_type": "markdown",
   "metadata": {},
   "source": [
    "**Solution 1**"
   ]
  },
  {
   "cell_type": "markdown",
   "metadata": {},
   "source": [
    "The runtime is O(n) and the space complexity is O(n)"
   ]
  },
  {
   "cell_type": "code",
   "execution_count": 1,
   "metadata": {},
   "outputs": [
    {
     "name": "stdout",
     "output_type": "stream",
     "text": [
      "4193\n",
      "0\n",
      "-2147483648\n",
      "-42\n",
      "0\n",
      "-5\n",
      "0\n",
      "3\n",
      "42\n",
      "0\n",
      "0\n"
     ]
    }
   ],
   "source": [
    "def atoi(str):\n",
    "    str = str.strip()\n",
    "    if str == \"\":\n",
    "        return 0\n",
    "    ans = \"\"\n",
    "    if str[0].isalpha():\n",
    "        return 0\n",
    "    if len(str) < 2:\n",
    "        return str[0]\n",
    "    if str[0] == '-' and str[1] == '+' or str[0] == '+' and str[1] == '-':\n",
    "        return 0\n",
    "    ans += str[0]\n",
    "    for i in range(1, len(str)):\n",
    "        if str[i] == '-' or str[i] == '+' or str[i].isalpha() or str[i] == ' ':\n",
    "            break\n",
    "        ans += str[i]\n",
    "\n",
    "    if '.' in ans:\n",
    "        ans = round(float(ans))\n",
    "\n",
    "    if ans == '-' or ans == '+':\n",
    "        return 0\n",
    "\n",
    "    ans = int(ans)\n",
    "    int_min = -2 ** 31\n",
    "    int_max = (2 ** 31) - 1\n",
    "    if ans < int_min:\n",
    "        return int_min\n",
    "    elif ans > int_max:\n",
    "        return int_max\n",
    "    return ans\n",
    "\n",
    "\n",
    "print(atoi(\"4193 with words\"))\n",
    "print(atoi(\"words and 987\"))\n",
    "print(atoi(\"-91283472332\"))\n",
    "print(atoi(\"-42\"))\n",
    "print(atoi('-+'))\n",
    "print(atoi('-5-1'))\n",
    "print(atoi('how -+23'))\n",
    "print(atoi(\"3.14159\"))\n",
    "print(atoi('42'))\n",
    "print(atoi(\"   +0 123\"))\n",
    "print(atoi('-abc'))"
   ]
  },
  {
   "cell_type": "code",
   "execution_count": null,
   "metadata": {},
   "outputs": [],
   "source": []
  }
 ],
 "metadata": {
  "kernelspec": {
   "display_name": "Python 3",
   "language": "python",
   "name": "python3"
  },
  "language_info": {
   "codemirror_mode": {
    "name": "ipython",
    "version": 3
   },
   "file_extension": ".py",
   "mimetype": "text/x-python",
   "name": "python",
   "nbconvert_exporter": "python",
   "pygments_lexer": "ipython3",
   "version": "3.7.4"
  }
 },
 "nbformat": 4,
 "nbformat_minor": 2
}
