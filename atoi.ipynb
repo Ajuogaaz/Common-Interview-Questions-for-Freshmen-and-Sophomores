{
 "cells": [
  {
   "cell_type": "markdown",
   "metadata": {},
   "source": [
    "**atoi --> String to Integer**"
   ]
  },
  {
   "cell_type": "markdown",
   "metadata": {},
   "source": [
    "Converts a given string to an integer"
   ]
  },
  {
   "cell_type": "markdown",
   "metadata": {},
   "source": [
    "the returned integer is the integral number in the string and it should be the after the white space ends. \n",
    "if no number exists it returns zero. \n",
    "if the number exceeds the signed int-max and int_min it returns the allocated integers respectively."
   ]
  },
  {
   "cell_type": "markdown",
   "metadata": {},
   "source": [
    "**Input** = '       -20'"
   ]
  },
  {
   "cell_type": "markdown",
   "metadata": {},
   "source": [
    "**Output** = -20"
   ]
  },
  {
   "cell_type": "markdown",
   "metadata": {},
   "source": [
    "**Solution 1**"
   ]
  },
  {
   "cell_type": "markdown",
   "metadata": {},
   "source": [
    "The runtime is O(n) and the space complexity is O(n)"
   ]
  },
  {
   "cell_type": "code",
   "execution_count": 2,
   "metadata": {},
   "outputs": [
    {
     "name": "stdout",
     "output_type": "stream",
     "text": [
      "0\n",
      "-2147483648\n",
      "3\n"
     ]
    }
   ],
   "source": [
    "def atoi(a):\n",
    "    a = a.strip()\n",
    "    ans = \"\"\n",
    "    for char in a:\n",
    "        if char == '-' or char == '+' or char.isdigit():\n",
    "            ans += char\n",
    "        else:\n",
    "            break\n",
    "    if ans == \"\":\n",
    "        ans = 0\n",
    "\n",
    "    int_max = (2**31)-1\n",
    "    int_min = -(2**31)\n",
    "\n",
    "    ans = int(ans)\n",
    "\n",
    "    if ans < int_min:\n",
    "        ans = int_min\n",
    "    elif ans > int_max:\n",
    "        ans = int_max\n",
    "    return ans\n",
    "\n",
    "print(atoi('kelvin  55'))\n",
    "print(atoi('-1000000000000'))\n",
    "print(atoi('+3'))"
   ]
  },
  {
   "cell_type": "code",
   "execution_count": null,
   "metadata": {},
   "outputs": [],
   "source": []
  }
 ],
 "metadata": {
  "kernelspec": {
   "display_name": "Python 3",
   "language": "python",
   "name": "python3"
  },
  "language_info": {
   "codemirror_mode": {
    "name": "ipython",
    "version": 3
   },
   "file_extension": ".py",
   "mimetype": "text/x-python",
   "name": "python",
   "nbconvert_exporter": "python",
   "pygments_lexer": "ipython3",
   "version": "3.7.4"
  }
 },
 "nbformat": 4,
 "nbformat_minor": 2
}
